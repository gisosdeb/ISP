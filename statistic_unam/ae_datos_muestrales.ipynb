{
 "cells": [
  {
   "cell_type": "markdown",
   "metadata": {},
   "source": [
    "### Construcción de tabla de distribución de frecuencias. \n",
    "____\n",
    "\n",
    "Antes de comenzar es necesario ordenar los datos de menor a mayor.\n",
    "\n",
    "1. _Cálculo del **$(R)$**_.\n",
    "    - `valor máximo - valor mínimo` (para que haya congruencia se recomienda que el rango contenga el mismo número de decimales que los datos de origen).    \n",
    "    \n",
    "\n",
    "2. _Determinar el número de **intervalos de clase ($K$)**_.\n",
    "    - Significa en cuántas categorías o subgrupos se clasificaran o agruparan los datos. Para determinar el número óptimo de intervalos de clase, se puede utilizar estas dos formas:    \n",
    "        * Aplicar la formula $\\sqrt{n}$. Donde $n$ es el número total de datos.\n",
    "        * Aplicar la regla de **_Sturges_**. Para $n$ igual al número total de datos: $1+(3.322*(\\log n))$.\n",
    "\n",
    "\n",
    "3. _Cálculo de la **amplitud $(A)$**_. \n",
    "    - Ahora se procede a calcular el ancho de los intervalos de clase; es decir, la dimensión que tendrá cada uno de los intervalos que se determinó en el paso anterior. El número de intervalos tiene que ser un número entero y como convención, la **_amplitud_**, deberá tener el mismo número de decimales que se manejan en los datos originales.\n",
    "     * $A$ = $R$/$K$ y se pyede tener en cuenta lo siguiente:\n",
    "       * `No. de Intervalos de clase * Amplitud` $>$ `Rango`\n",
    "       * `No. de Intervalos de clase * Amplitud - Rango` $\\leq$ `Amplitud`\n",
    "\n",
    "\n",
    "Sugerencia: sea **$n$** número de datos y $K$ el número de intervalo de clases podemos tener:\n",
    "\n",
    "| $n$ | $K$ |\n",
    "| --- | --- |\n",
    "| MENOS DE 50 | 5 - 7 |\n",
    "| ENTRE 50 A 100| 6 - 10|\n",
    "| ENTRE 100 A 250 | 7 - 12|\n",
    "| MÁS DE 250 | 10 - 20|\n",
    "\n",
    "4. _Obtener los **límites de clase.**_ \n",
    "    - Los límites de clases definen el ancho de cada intervalo; es decir, en que número inicia nuestro intervalo inferior _**(L.I.C)**_ y hasta donde llega _**(L.S.C)**_.\n",
    "     * El `valor mínimo` siempre será el primer límite inferior de la tabla.\n",
    "          * La distancia  entre el primer  intervalo y el segundo, será siempre igual a la **amplitud**, y así sucesivamente.\n",
    "              * Supongamos que nuestro dato menor es `2.86` y la **amplitud** igual a `1.21`. Entonces; el primer límite inferior de clase del intervalo será `2.86`\n",
    "              * El segundo límite inferior de clase del intervalo será igual a `2.86` + `1.21` = `4.07`. Y así sucesivamente.\n",
    "          * Para establecer los límites superiores de clase, se recomienda seguirla siguiente tabla. Y por tal motivo tendríamos que ajustar nuestros resultados `4.07` - `.1` = `4.06`\n",
    "      \n",
    "      \n",
    "|N° de decimales de los datos originales| L.S.C|\n",
    "-|-|\n",
    "|0 decimales (enteros)|Restar 1 al L.I.C inmediato posterior|\n",
    "|1 decimal|Restar .1 al L.I.C inmediato posterior|\n",
    "|2 decimales|Restar .01 al L.I.C inmediato  posterior |\n",
    "|3 decimales|Restar .001 al L.I.C inmediato posterior|\n",
    "\n",
    "5. _Marca de **clase $x_{i}$**._\n",
    "    - La marca de clase $x_{i}$ de un intervalo es el punto medio del intervalo. Esta tomará el lugar del único valor representativo de todos y cada uno de los intervalod para toda la etapa del análisis.\n",
    "     * Se obtiene sumando (`límite inferior de la clase` + `límite superior de la clase`) / `2`\n",
    "\n",
    "\n",
    "6. _**Frecuencias**_.\n",
    "    - La **frecuencia** $f_{i}$ es el número de veces que un dato cae contenido dentro del intervalo de clase. La suma del atributo de la frecuencia es siempre igual al número de datos. Para obtenerla se debe contar el número de datos que caen dentro de los límites de clase de cada intecalo.\n",
    "    -La **frecuencia relativa** $f_{r}$ nos dice el porcentaje (%) con que contribuye cada intervalo en la distribución total. La frecuencia relativa se calcula con el cociente de $f_{i}$ y $f_{r}$\n",
    "    -La **frecuencia absoluta acumulada** es la suma de las frecuencias acumuladas en cada uno de los intervalos $(\\sum f_i = {F})$. El total de las frecuencias deberá ser siempre igual al número total de nuestros datos.\n",
    "\n",
    "\n",
    "      "
   ]
  },
  {
   "cell_type": "markdown",
   "metadata": {},
   "source": [
    "### Momentos\n",
    "-----\n",
    "\n",
    "1. Primer momento respecto al origen es igual a la media.\n",
    "2. Segundo momento respecto a la media es la varianza.\n",
    "3. Tercer momento respecto a la media es el sesgo.\n",
    "4. Cuarto momento respecto a la medianes la curtosis.\n",
    "    - \n",
    "     * `Amplitud = Rango/No.Intervalos de Clase`\n",
    "     \n",
    "       * `No. de Intervalos de clase * Amplitud > Rango`\n",
    "       * `No. de Intervalos de clase * Amplitud - Rango` $\\leq$ `Amplitud`\n"
   ]
  }
 ],
 "metadata": {
  "kernelspec": {
   "display_name": "Python 3",
   "language": "python",
   "name": "python3"
  },
  "language_info": {
   "codemirror_mode": {
    "name": "ipython",
    "version": 3
   },
   "file_extension": ".py",
   "mimetype": "text/x-python",
   "name": "python",
   "nbconvert_exporter": "python",
   "pygments_lexer": "ipython3",
   "version": "3.7.3"
  }
 },
 "nbformat": 4,
 "nbformat_minor": 4
}

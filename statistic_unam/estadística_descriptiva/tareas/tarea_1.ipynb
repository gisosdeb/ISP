{
 "cells": [
  {
   "cell_type": "markdown",
   "metadata": {},
   "source": [
    "# _Tarea 1_\n",
    "____"
   ]
  },
  {
   "cell_type": "markdown",
   "metadata": {},
   "source": [
    "A continuación se describe paso a paso la construcción de una tabla de frecuencias utilizando las librerías **_Pandas_** y **_numpy_**. El análisis visual de los datos corre a cuenta de las librerías **_matplotlib_** y **_seaborn_** para la representación de: gráfica de barras a partir del histograma, ojiva y polígono de frecuencias."
   ]
  },
  {
   "cell_type": "code",
   "execution_count": 1,
   "metadata": {},
   "outputs": [],
   "source": [
    "# Importación de las librerías:\n",
    "\n",
    "import matplotlib.pyplot as plt\n",
    "from scipy import stats\n",
    "from collections import defaultdict\n",
    "from bisect import bisect_left\n",
    "import pandas as pd\n",
    "import math\n",
    "import numpy as np\n",
    "import csv\n",
    "import seaborn as sns\n",
    "%matplotlib inline\n",
    "sns.set(style=\"darkgrid\")"
   ]
  },
  {
   "cell_type": "markdown",
   "metadata": {},
   "source": [
    "### **Construcción de la tabla de fecuencias**"
   ]
  },
  {
   "cell_type": "markdown",
   "metadata": {},
   "source": [
    "Los datos son previamente almacenados en una rchivo **.txt** sin ningún orden en especial o tipo de arreglo. Para este ejemplo, dicho archivo es llamado **data_tarea1.txt**.\n",
    "\n",
    "Necesitaremos la creación de dos objetos de tipo _listas_ para la visualización de los datos en el archivo **.txt**. Los llamaremos `listas` y `datos`. \n",
    "\n",
    "Después se lleva a cabo la iteración de cada uno de los datos en el archivo **.txt**, dentro de un _loop_, en el objeto `listas`. Posteriormente se crea un tercer objeto, de tipo arreglo, que nos permitirá llegar a la visualización de cada uno de los datos. Lo llamaremos `np_datos`."
   ]
  },
  {
   "cell_type": "code",
   "execution_count": 3,
   "metadata": {},
   "outputs": [
    {
     "name": "stdout",
     "output_type": "stream",
     "text": [
      "los datos, ordenados, son los siguientes [ 90.  95.  96. 108. 114. 116. 119. 123. 130. 141. 147. 149. 150. 151.\n",
      " 154. 157. 163. 171. 172. 175. 178. 183. 185. 202. 206.] "
     ]
    }
   ],
   "source": [
    "# Carga de los datos mediante la lectura del archivo fuente.txt:\n",
    "\n",
    "listas = []\n",
    "datos=[]\n",
    "\n",
    "with open('datos_tarea1.txt', newline='') as archivo:\n",
    "    for linea in csv.reader(archivo):\n",
    "        listas.append(linea)\n",
    "\n",
    "# Adisión de cada uno de los datos al objeto arreglo:\n",
    "\n",
    "for lista in listas:\n",
    "    for elemento in lista:\n",
    "        datos.append(float(elemento))\n",
    "        np_datos=np.sort(np.array(datos))\n",
    "\n",
    "print('los datos, ordenados, son los siguientes '+ str(np.sort(np_datos)), end=' ')"
   ]
  },
  {
   "cell_type": "markdown",
   "metadata": {},
   "source": [
    "#### _Agrupamiento (rango ($R$), amplitud ($A$)) e intervalos de clases ($k$) de los datos_\n",
    "\n",
    "\n",
    "Para calcular el número de clases _(**$k$**)_ utilizamos la función `histogram()` de la librería **_numpy_**. Esta función nos permite el cálculo de las clases mediante la regla de **_Sturges_** y **_$\\sqrt{n}$_** que ya vienen como `parámetros` integrados. Además de calcular, en una lista, los límites superiores e inferiores para cada intervalo y la frecuencia absoluta respectivamente para cada una de ellas.\n",
    "\n",
    "Tomando en cuenta lo anterior, la amplitud (**$A$**) es calculada aprovechando el resultado de los límites superiores e inferiores. \n",
    "\n",
    "Todas las medidas de posición son calculadas utilizando el objeto `np_datos` y las correspondientes funciones de **_numpy_**:"
   ]
  },
  {
   "cell_type": "code",
   "execution_count": 21,
   "metadata": {},
   "outputs": [
    {
     "name": "stdout",
     "output_type": "stream",
     "text": [
      "El número total de datos(n) es: 25\n",
      "El dato mayor es: 206.0\n",
      "El dato menor es: 90.0\n",
      "El rango(R) es igual a: 116.0\n",
      "(array([4, 4, 3, 6, 6, 2]), array([ 90.        , 109.33333333, 128.66666667, 148.        ,\n",
      "       167.33333333, 186.66666667, 206.        ]))\n",
      "Utilizando el método de Sturges tenemos un número de clases (k) igual a 6 con una aplitud (A) igual a 19.0\n",
      "Utilizando la raíz cuadrada, del número total de datos, tenemos un número de clases igual a :5 con una aplitud (A) igual a 23.2\n"
     ]
    }
   ],
   "source": [
    "# Número de datos\n",
    "np_datos=np.array(datos)\n",
    "print('El número total de datos(n) es: '+str(len(np_datos)))\n",
    "\n",
    "# Máximos y Mínimos\n",
    "print('El dato mayor es: '+np_datos.max().astype(str))\n",
    "print('El dato menor es: '+np_datos.min().astype(str))\n",
    "\n",
    "# Rango\n",
    "rango=np_datos.max().astype(float)-np_datos.min().astype(float)\n",
    "print('El rango(R) es igual a: '+ str(round(rango,2)))\n",
    "\n",
    "# Clases (sturges)\n",
    "sturges=np.histogram(np_datos, bins='sturges')\n",
    "sturges_a=sturges[1][1]-sturges[1][0]\n",
    "print('Utilizando el método de Sturges tenemos un número de clases (k) igual a ' + str(len(sturges[0]))+' con una aplitud (A) igual a '+\n",
    "      str(round(sturges_a,0)))\n",
    "\n",
    "# Clases (raíz cuadrada)\n",
    "sqrt=np.histogram(np_datos, bins='sqrt')\n",
    "sqrt_a=sqrt[1][1]-sqrt[1][0]\n",
    "print('Utilizando la raíz cuadrada, del número total de datos, tenemos un número de clases igual a :'+str(len(sqrt[0]))+\n",
    "      ' con una aplitud (A) igual a '+str(round(sqrt_a,3)))"
   ]
  },
  {
   "cell_type": "markdown",
   "metadata": {},
   "source": [
    "#### _Medidas de tendencia central; media, mediana y moda_\n",
    "\n",
    "Posteriormente realizamos calculamos las medidas de tendencia central `media`, `mediana` y `moda` para los datos no agrupados. Todas las medidas de centralización son calculadas utilizando el objeto `np_datos` y las funciones pertinentes de **_numpy_**:"
   ]
  },
  {
   "cell_type": "code",
   "execution_count": 18,
   "metadata": {},
   "outputs": [
    {
     "name": "stdout",
     "output_type": "stream",
     "text": [
      "la media es igual a: 147.0\n",
      "la mediana es igual a: 150.0\n",
      "la moda es igual a: ModeResult(mode=array([90.]), count=array([1]))\n",
      "la media armónica es igual a: 139.28\n",
      "la media geométrica es igual a: 143.214\n",
      "la media cuadrática  es igual a: 12.124\n"
     ]
    }
   ],
   "source": [
    "# media \n",
    "print('la media es igual a: '+ str(round(np.mean(np_datos),3)))\n",
    "\n",
    "# mediana\n",
    "print('la mediana es igual a: '+ str(round(np.median(np_datos),3)))\n",
    "\n",
    "# moda\n",
    "print('la moda es igual a: '+ str(stats.mode(np_datos)))\n",
    "\n",
    "# media harmonica\n",
    "print('la media armónica es igual a: '+str(round(stats.hmean(np_datos),3)))\n",
    "\n",
    "# media geométrica\n",
    "print('la media geométrica es igual a: '+str(round(stats.gmean(np_datos),3)))\n",
    "\n",
    "# media cuadrática \n",
    "print('la media cuadrática  es igual a: '+str(round(np.sqrt(np.mean(np_datos)),3)))"
   ]
  },
  {
   "cell_type": "markdown",
   "metadata": {},
   "source": [
    "Para la presentación de los intervalos de clase es necesario agrupar los respectivos límites de clase obtenidos con la función `histogram()`. Los intervalos son agrupados con ayuda de la creación de una función nombrada `lc`. Esta función tiene la tarea de recibir los parámetros `start`, `stop` y `step`. Todos ellos salen del objeto **sturges** creado en la parte de _**\"Agrupameinto\"**_ de este script."
   ]
  },
  {
   "cell_type": "code",
   "execution_count": 20,
   "metadata": {
    "scrolled": true
   },
   "outputs": [
    {
     "data": {
      "text/plain": [
       "[[90.0, 109.0],\n",
       " [109.0, 128.0],\n",
       " [128.0, 147.0],\n",
       " [147.0, 166.0],\n",
       " [166.0, 185.0],\n",
       " [185.0, 204.0],\n",
       " [204.0, 223.0]]"
      ]
     },
     "execution_count": 20,
     "metadata": {},
     "output_type": "execute_result"
    }
   ],
   "source": [
    "# Creación de los intervalos\n",
    "\"\"\"\"\"\"\n",
    "\n",
    "# La función \"lc\" recibe como parámetros dato menor, dato mayor y amplitud para agrupar los límites de clase:\n",
    "def lc(start, stop, step):\n",
    "    i=start\n",
    "    while i <= stop:\n",
    "        yield i\n",
    "        i+=step\n",
    "        yield i\n",
    "\n",
    "# Ejecución de la función \"lc\" y alojamiento de los resultado en una variable llamda \"l_inter\"\n",
    "l_inter=[]\n",
    "for i in lc(sturges[1].min(), sturges[1].max(),round(sturges_a,0)):\n",
    "    l_inter.append(round(i,0))\n",
    "\n",
    "# Construcción de una tupla para cada intervalo de clase, y creación de una lista de listas \"t_iter\" que aloja a cada uno de ellos.\n",
    "t_iter=np.array([i for i in zip(l_inter[::2],l_inter[1::2])]).tolist()\n",
    "t_iter"
   ]
  },
  {
   "cell_type": "markdown",
   "metadata": {},
   "source": [
    "#### _Medidas de agrupamiento: Marcas de Clase ($x_i$), Frecuencias absolutas ($n_i$), Frecuencias relativas ($f_i$), Frecuencias absolutas acumuladas ($N_i$) y Frecuencias relativas acumuladas ($F_i$)._\n",
    "\n",
    "Las marcas de clase, `macl`, son calculadas con la función `mean()` sobre el objeto `t_iter` y redondeado a **1** decimales. Las frecuencias absolutas, `frec_abs`, son extraidas del objeto `sturges` que alojaba dos arreglos, uno para los límites de clase y otro sus frecuencias absolutas.\n",
    "\n",
    "Para la frecuencia relativa, `frec_re`, el ćalculo lo realizamos convirtiendo en un arreglo la variable `frec_abs` y dividiendo cada uno de sus elementos entre el número total de datos. Mientras que la frecuencia absoluta acumulada. `frec_abs_ac` es calculada mediante el método `cumsum()` de _numpy_ sobre la variable `frec_abs`.\n",
    "\n",
    "Por último; para la frecuencia relativa acumulada, `frec_re_ac`, es necesario convertir en un arreglo a la variable `frec_re`. Y, a cada elemento, hay que dividirlo entre el número total de datos.\n",
    "\n",
    "Todos estos datos ahora podemos convertirlos en un _DataFrame_ de nombre **df_frec** para poderlos representar como una tabla de frecuencias."
   ]
  },
  {
   "cell_type": "code",
   "execution_count": 11,
   "metadata": {},
   "outputs": [
    {
     "data": {
      "text/plain": [
       "[99.7, 119.0, 138.3, 157.7, 177.0, 196.3, 215.7]"
      ]
     },
     "execution_count": 11,
     "metadata": {},
     "output_type": "execute_result"
    }
   ],
   "source": [
    "macl"
   ]
  },
  {
   "cell_type": "code",
   "execution_count": 10,
   "metadata": {},
   "outputs": [
    {
     "ename": "ValueError",
     "evalue": "arrays must all be same length",
     "output_type": "error",
     "traceback": [
      "\u001b[0;31m---------------------------------------------------------------------------\u001b[0m",
      "\u001b[0;31mValueError\u001b[0m                                Traceback (most recent call last)",
      "\u001b[0;32m<ipython-input-10-fadce8c386e8>\u001b[0m in \u001b[0;36m<module>\u001b[0;34m\u001b[0m\n\u001b[1;32m     30\u001b[0m \u001b[0mfrec_re_ac\u001b[0m\u001b[0;34m=\u001b[0m\u001b[0;34m[\u001b[0m\u001b[0;34m(\u001b[0m\u001b[0mf\u001b[0m\u001b[0;34m/\u001b[0m\u001b[0;34m(\u001b[0m\u001b[0mlen\u001b[0m\u001b[0;34m(\u001b[0m\u001b[0mnp_datos\u001b[0m\u001b[0;34m)\u001b[0m\u001b[0;34m)\u001b[0m\u001b[0;34m)\u001b[0m \u001b[0;32mfor\u001b[0m \u001b[0mf\u001b[0m \u001b[0;32min\u001b[0m \u001b[0mnp_frec_ac\u001b[0m\u001b[0;34m]\u001b[0m\u001b[0;34m\u001b[0m\u001b[0;34m\u001b[0m\u001b[0m\n\u001b[1;32m     31\u001b[0m \u001b[0;34m\u001b[0m\u001b[0m\n\u001b[0;32m---> 32\u001b[0;31m \u001b[0mdf_frec\u001b[0m\u001b[0;34m=\u001b[0m\u001b[0mpd\u001b[0m\u001b[0;34m.\u001b[0m\u001b[0mDataFrame\u001b[0m\u001b[0;34m(\u001b[0m\u001b[0;34m{\u001b[0m\u001b[0;34m'$ci$'\u001b[0m\u001b[0;34m:\u001b[0m\u001b[0mt_iter\u001b[0m\u001b[0;34m,\u001b[0m\u001b[0;34m'$x_i$'\u001b[0m\u001b[0;34m:\u001b[0m\u001b[0mmacl\u001b[0m\u001b[0;34m,\u001b[0m \u001b[0;34m'$n_i$'\u001b[0m\u001b[0;34m:\u001b[0m\u001b[0mfrec_abs\u001b[0m\u001b[0;34m,\u001b[0m \u001b[0;34m'$f_i$'\u001b[0m\u001b[0;34m:\u001b[0m\u001b[0mfrec_re\u001b[0m\u001b[0;34m,\u001b[0m \u001b[0;34m'$N_i$'\u001b[0m\u001b[0;34m:\u001b[0m\u001b[0mfrec_abs_ac\u001b[0m\u001b[0;34m,\u001b[0m \u001b[0;34m'$F_i$'\u001b[0m\u001b[0;34m:\u001b[0m\u001b[0mfrec_re_ac\u001b[0m\u001b[0;34m}\u001b[0m\u001b[0;34m)\u001b[0m\u001b[0;34m\u001b[0m\u001b[0;34m\u001b[0m\u001b[0m\n\u001b[0m\u001b[1;32m     33\u001b[0m \u001b[0mdf_frec\u001b[0m\u001b[0;34m\u001b[0m\u001b[0;34m\u001b[0m\u001b[0m\n",
      "\u001b[0;32m~/anaconda3/lib/python3.7/site-packages/pandas/core/frame.py\u001b[0m in \u001b[0;36m__init__\u001b[0;34m(self, data, index, columns, dtype, copy)\u001b[0m\n\u001b[1;32m    408\u001b[0m             )\n\u001b[1;32m    409\u001b[0m         \u001b[0;32melif\u001b[0m \u001b[0misinstance\u001b[0m\u001b[0;34m(\u001b[0m\u001b[0mdata\u001b[0m\u001b[0;34m,\u001b[0m \u001b[0mdict\u001b[0m\u001b[0;34m)\u001b[0m\u001b[0;34m:\u001b[0m\u001b[0;34m\u001b[0m\u001b[0;34m\u001b[0m\u001b[0m\n\u001b[0;32m--> 410\u001b[0;31m             \u001b[0mmgr\u001b[0m \u001b[0;34m=\u001b[0m \u001b[0minit_dict\u001b[0m\u001b[0;34m(\u001b[0m\u001b[0mdata\u001b[0m\u001b[0;34m,\u001b[0m \u001b[0mindex\u001b[0m\u001b[0;34m,\u001b[0m \u001b[0mcolumns\u001b[0m\u001b[0;34m,\u001b[0m \u001b[0mdtype\u001b[0m\u001b[0;34m=\u001b[0m\u001b[0mdtype\u001b[0m\u001b[0;34m)\u001b[0m\u001b[0;34m\u001b[0m\u001b[0;34m\u001b[0m\u001b[0m\n\u001b[0m\u001b[1;32m    411\u001b[0m         \u001b[0;32melif\u001b[0m \u001b[0misinstance\u001b[0m\u001b[0;34m(\u001b[0m\u001b[0mdata\u001b[0m\u001b[0;34m,\u001b[0m \u001b[0mma\u001b[0m\u001b[0;34m.\u001b[0m\u001b[0mMaskedArray\u001b[0m\u001b[0;34m)\u001b[0m\u001b[0;34m:\u001b[0m\u001b[0;34m\u001b[0m\u001b[0;34m\u001b[0m\u001b[0m\n\u001b[1;32m    412\u001b[0m             \u001b[0;32mimport\u001b[0m \u001b[0mnumpy\u001b[0m\u001b[0;34m.\u001b[0m\u001b[0mma\u001b[0m\u001b[0;34m.\u001b[0m\u001b[0mmrecords\u001b[0m \u001b[0;32mas\u001b[0m \u001b[0mmrecords\u001b[0m\u001b[0;34m\u001b[0m\u001b[0;34m\u001b[0m\u001b[0m\n",
      "\u001b[0;32m~/anaconda3/lib/python3.7/site-packages/pandas/core/internals/construction.py\u001b[0m in \u001b[0;36minit_dict\u001b[0;34m(data, index, columns, dtype)\u001b[0m\n\u001b[1;32m    255\u001b[0m             \u001b[0marr\u001b[0m \u001b[0;32mif\u001b[0m \u001b[0;32mnot\u001b[0m \u001b[0mis_datetime64tz_dtype\u001b[0m\u001b[0;34m(\u001b[0m\u001b[0marr\u001b[0m\u001b[0;34m)\u001b[0m \u001b[0;32melse\u001b[0m \u001b[0marr\u001b[0m\u001b[0;34m.\u001b[0m\u001b[0mcopy\u001b[0m\u001b[0;34m(\u001b[0m\u001b[0;34m)\u001b[0m \u001b[0;32mfor\u001b[0m \u001b[0marr\u001b[0m \u001b[0;32min\u001b[0m \u001b[0marrays\u001b[0m\u001b[0;34m\u001b[0m\u001b[0;34m\u001b[0m\u001b[0m\n\u001b[1;32m    256\u001b[0m         ]\n\u001b[0;32m--> 257\u001b[0;31m     \u001b[0;32mreturn\u001b[0m \u001b[0marrays_to_mgr\u001b[0m\u001b[0;34m(\u001b[0m\u001b[0marrays\u001b[0m\u001b[0;34m,\u001b[0m \u001b[0mdata_names\u001b[0m\u001b[0;34m,\u001b[0m \u001b[0mindex\u001b[0m\u001b[0;34m,\u001b[0m \u001b[0mcolumns\u001b[0m\u001b[0;34m,\u001b[0m \u001b[0mdtype\u001b[0m\u001b[0;34m=\u001b[0m\u001b[0mdtype\u001b[0m\u001b[0;34m)\u001b[0m\u001b[0;34m\u001b[0m\u001b[0;34m\u001b[0m\u001b[0m\n\u001b[0m\u001b[1;32m    258\u001b[0m \u001b[0;34m\u001b[0m\u001b[0m\n\u001b[1;32m    259\u001b[0m \u001b[0;34m\u001b[0m\u001b[0m\n",
      "\u001b[0;32m~/anaconda3/lib/python3.7/site-packages/pandas/core/internals/construction.py\u001b[0m in \u001b[0;36marrays_to_mgr\u001b[0;34m(arrays, arr_names, index, columns, dtype)\u001b[0m\n\u001b[1;32m     75\u001b[0m     \u001b[0;31m# figure out the index, if necessary\u001b[0m\u001b[0;34m\u001b[0m\u001b[0;34m\u001b[0m\u001b[0;34m\u001b[0m\u001b[0m\n\u001b[1;32m     76\u001b[0m     \u001b[0;32mif\u001b[0m \u001b[0mindex\u001b[0m \u001b[0;32mis\u001b[0m \u001b[0;32mNone\u001b[0m\u001b[0;34m:\u001b[0m\u001b[0;34m\u001b[0m\u001b[0;34m\u001b[0m\u001b[0m\n\u001b[0;32m---> 77\u001b[0;31m         \u001b[0mindex\u001b[0m \u001b[0;34m=\u001b[0m \u001b[0mextract_index\u001b[0m\u001b[0;34m(\u001b[0m\u001b[0marrays\u001b[0m\u001b[0;34m)\u001b[0m\u001b[0;34m\u001b[0m\u001b[0;34m\u001b[0m\u001b[0m\n\u001b[0m\u001b[1;32m     78\u001b[0m     \u001b[0;32melse\u001b[0m\u001b[0;34m:\u001b[0m\u001b[0;34m\u001b[0m\u001b[0;34m\u001b[0m\u001b[0m\n\u001b[1;32m     79\u001b[0m         \u001b[0mindex\u001b[0m \u001b[0;34m=\u001b[0m \u001b[0mensure_index\u001b[0m\u001b[0;34m(\u001b[0m\u001b[0mindex\u001b[0m\u001b[0;34m)\u001b[0m\u001b[0;34m\u001b[0m\u001b[0;34m\u001b[0m\u001b[0m\n",
      "\u001b[0;32m~/anaconda3/lib/python3.7/site-packages/pandas/core/internals/construction.py\u001b[0m in \u001b[0;36mextract_index\u001b[0;34m(data)\u001b[0m\n\u001b[1;32m    366\u001b[0m             \u001b[0mlengths\u001b[0m \u001b[0;34m=\u001b[0m \u001b[0mlist\u001b[0m\u001b[0;34m(\u001b[0m\u001b[0mset\u001b[0m\u001b[0;34m(\u001b[0m\u001b[0mraw_lengths\u001b[0m\u001b[0;34m)\u001b[0m\u001b[0;34m)\u001b[0m\u001b[0;34m\u001b[0m\u001b[0;34m\u001b[0m\u001b[0m\n\u001b[1;32m    367\u001b[0m             \u001b[0;32mif\u001b[0m \u001b[0mlen\u001b[0m\u001b[0;34m(\u001b[0m\u001b[0mlengths\u001b[0m\u001b[0;34m)\u001b[0m \u001b[0;34m>\u001b[0m \u001b[0;36m1\u001b[0m\u001b[0;34m:\u001b[0m\u001b[0;34m\u001b[0m\u001b[0;34m\u001b[0m\u001b[0m\n\u001b[0;32m--> 368\u001b[0;31m                 \u001b[0;32mraise\u001b[0m \u001b[0mValueError\u001b[0m\u001b[0;34m(\u001b[0m\u001b[0;34m\"arrays must all be same length\"\u001b[0m\u001b[0;34m)\u001b[0m\u001b[0;34m\u001b[0m\u001b[0;34m\u001b[0m\u001b[0m\n\u001b[0m\u001b[1;32m    369\u001b[0m \u001b[0;34m\u001b[0m\u001b[0m\n\u001b[1;32m    370\u001b[0m             \u001b[0;32mif\u001b[0m \u001b[0mhave_dicts\u001b[0m\u001b[0;34m:\u001b[0m\u001b[0;34m\u001b[0m\u001b[0;34m\u001b[0m\u001b[0m\n",
      "\u001b[0;31mValueError\u001b[0m: arrays must all be same length"
     ]
    }
   ],
   "source": [
    "# Cálculo de las marcas de clase \"xi\".\n",
    "\"\"\"\"\"\"\n",
    "\n",
    "np_titer=np.array(t_iter)\n",
    "macl=[round(np.mean(x),1) for x in np_titer]\n",
    "\n",
    "# Frecuecias absolutas \"ni\".\n",
    "\"\"\"\"\"\"\n",
    "\n",
    "frec_abs=sturges[0]\n",
    "    \n",
    "\n",
    "# Cálulo de la frecuencia relativa \"fi\".\n",
    "\"\"\"\"\"\"\n",
    "\n",
    "np_frec=np.array(frec_abs)\n",
    "frec_re=[(f/(len(np_datos))) for f in np_frec]\n",
    "\n",
    "\n",
    "# Cálculo de la frecuencia absoluta acumulada \"Ni\".\n",
    "\"\"\"\"\"\"\n",
    "\n",
    "frec_abs_ac=list(np.cumsum(frec_abs))\n",
    "\n",
    "\n",
    "# Cálculo de la frecuencia relativa acumulada \"Fi\".\n",
    "\"\"\"\"\"\"\n",
    "\n",
    "np_frec_ac=np.array(frec_abs_ac)\n",
    "frec_re_ac=[(f/(len(np_datos))) for f in np_frec_ac]\n",
    "\n",
    "df_frec=pd.DataFrame({'$ci$':t_iter,'$x_i$':macl, '$n_i$':frec_abs, '$f_i$':frec_re, '$N_i$':frec_abs_ac, '$F_i$':frec_re_ac})\n",
    "df_frec"
   ]
  },
  {
   "cell_type": "markdown",
   "metadata": {},
   "source": [
    "### **Reprecentación gráfica de los datos**\n",
    "\n",
    "#### _Histograma, Pólígono de Frecuencias y Ojiva_\n",
    "\n",
    "Todas las representaciones gráficas para los datos son obtenidas mediante la librería `matplotlib` y `seaborn` para dar estilo. Cabe señalar que para este caso no se presentan las gráficas para el método **$\\sqrt{n}$**, con el cual también se obtienen los intervalos de clase puesto que los valores bajo el criterio de **Sturges**, en **$k$**, fueron los mismos. Por tanto no existe la comparación de gráficos."
   ]
  },
  {
   "cell_type": "code",
   "execution_count": 8,
   "metadata": {},
   "outputs": [
    {
     "data": {
      "image/png": "[encoded data removed]",
      "text/plain": [
       "<Figure size 792x720 with 3 Axes>"
      ]
     },
     "metadata": {
      "needs_background": "light"
     },
     "output_type": "display_data"
    }
   ],
   "source": [
    "fig = plt.figure(figsize=(11,10))\n",
    "\n",
    "# HISTOGRAMA:\n",
    "\"\"\"\"\"\"\n",
    "\n",
    "ax1 = fig.add_subplot(221)\n",
    "\n",
    "plt.hist(np_datos, bins=len(sturges[0]), histtype='bar', edgecolor='k',alpha=.45, color='teal') \n",
    "plt.xticks(macl)\n",
    "plt.ylabel('Perímetros Basales (cm)')\n",
    "plt.xlabel('Marcas de Clase')\n",
    "plt.title('MEDIDAS DE LOS TRONCOS DE PLANTAS DE QUEBRANCHO \\n'+ 'UTILIZANDO EL MÉTODO PARA (K) DE STURGES')\n",
    "plt.legend(['histograma']) \n",
    "\n",
    "\n",
    "# POLÍGONO DE FRECUENCIAS:\n",
    "\"\"\"\"\"\"\n",
    "\n",
    "ax2 = fig.add_subplot(222)\n",
    "\n",
    "plt.plot(macl,frec_abs, color='green', marker='o', linestyle='dashed', )\n",
    "plt.xticks(macl)\n",
    "plt.ylabel('Frecuencia')\n",
    "plt.xlabel('Marcas de Clase')\n",
    "plt.hist(np_datos, bins=len(sturges[0]), histtype='stepfilled', edgecolor='k',alpha=0.2) \n",
    "plt.xticks(macl)\n",
    "plt.ylabel('Perímetros Basales (cm)')\n",
    "plt.xlabel('Marcas de Clase')\n",
    "plt.title('POLÍGONO DE FRECUENCIAS')\n",
    "plt.legend(['polígono de frecuencias']) \n",
    "\n",
    "ax3 = fig.add_subplot(223)\n",
    "\n",
    "plt.plot(macl,frec_abs_ac, color='green', marker='o', linestyle='dashed', )\n",
    "plt.xticks(macl)\n",
    "plt.ylabel('Frecuencia')\n",
    "plt.xlabel('Marcas de Clase')\n",
    "plt.hist(np_datos, bins=len(sturges[0]), histtype='stepfilled', edgecolor='k',alpha=0.2) \n",
    "plt.xticks(macl)\n",
    "plt.ylabel('Perímetros Basales (cm)')\n",
    "plt.xlabel('Marcas de Clase')\n",
    "plt.title('TRONCOS DE PLANTAS DE QUEBRANCHO')\n",
    "plt.legend(['ojiva']) \n",
    "\n",
    "fig.tight_layout()"
   ]
  },
  {
   "cell_type": "markdown",
   "metadata": {},
   "source": [
    "### **Medidas de Dispersión**\n",
    "\n",
    "Todos los cuartiles son calculados con ayuda de la libreía _Scipy Statistics (numpy)_, en el apartado de _Averages and variances_. Además de la varianza, desviasión estandar y el coeficiente de relación. \n",
    "\n",
    "Mientras que con ayuda de la librería _Scipy Statistics (scipy.stats)_, en el apartado de _Summary statistics_, pudimos obtener la qurtosis (**$m_4$**) y el coeficiente de variación."
   ]
  },
  {
   "cell_type": "code",
   "execution_count": 9,
   "metadata": {},
   "outputs": [
    {
     "name": "stdout",
     "output_type": "stream",
     "text": [
      "El quartil Q1 (25%) :  2.0\n",
      "El quartil Q2 (50%) :  2.0\n",
      "El quartil Q3 (75%) :  3.5\n"
     ]
    },
    {
     "data": {
      "image/png": "[encoded data removed]",
      "text/plain": [
       "<Figure size 432x288 with 1 Axes>"
      ]
     },
     "metadata": {
      "needs_background": "light"
     },
     "output_type": "display_data"
    },
    {
     "name": "stdout",
     "output_type": "stream",
     "text": [
      "La varianza es igual a: 1.5041322314049586\n",
      "La desviasión estandar es ingual a: 1.2264306875665492\n",
      "El coeficiente de relación (Pearson) es ingual a: 1.0\n",
      "El coeficiente de variación es aigual a: 0.46519784700800143\n",
      "La Curtosis es igual a: -0.8639657046250444\n"
     ]
    }
   ],
   "source": [
    "print(\"El quartil Q1 (25%) : \", np.quantile(np_datos, .25)) \n",
    "print(\"El quartil Q2 (50%) : \", np.quantile(np_datos, .50)) \n",
    "print(\"El quartil Q3 (75%) : \", np.quantile(np_datos, .75))\n",
    "\n",
    "# QUANTILES:\n",
    "\"\"\"\"\"\"\n",
    "q=sns.boxplot(np_datos)\n",
    "plt.xticks(macl)\n",
    "plt.title('CUANTILES')\n",
    "plt.xlabel('Marcas de Clase')\n",
    "plt.legend(['box plot']) \n",
    "plt.show()\n",
    "\n",
    "# Cálculos usando el módulo Scipy Statistics (numpy) functions\" en el apartado de Averages and variances:\n",
    "\"\"\"\"\"\"\n",
    "print(\"La varianza es igual a: \"+str(np.var(np_datos)))\n",
    "print(\"La desviasión estandar es ingual a: \"+str(np.std(np_datos)))\n",
    "print(\"El coeficiente de relación (Pearson) es ingual a: \"+str(np.corrcoef(np_datos)))\n",
    "\n",
    "\n",
    "# Cálculos usando el módulo Scipy Statistics \"(scipy.stats) functions\" en el apartado de Summary statistics:\n",
    "\"\"\"\"\"\"\n",
    "print(\"El coeficiente de variación es aigual a: \"+str(stats.variation(np_datos)))\n",
    "print(\"La Curtosis es igual a: \"+str(stats.kurtosis(np_datos)))"
   ]
  }
 ],
 "metadata": {
  "kernelspec": {
   "display_name": "Python 3",
   "language": "python",
   "name": "python3"
  },
  "language_info": {
   "codemirror_mode": {
    "name": "ipython",
    "version": 3
   },
   "file_extension": ".py",
   "mimetype": "text/x-python",
   "name": "python",
   "nbconvert_exporter": "python",
   "pygments_lexer": "ipython3",
   "version": "3.7.3"
  }
 },
 "nbformat": 4,
 "nbformat_minor": 4
}

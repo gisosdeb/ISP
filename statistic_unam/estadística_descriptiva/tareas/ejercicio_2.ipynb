{
 "cells": [
  {
   "cell_type": "markdown",
   "metadata": {},
   "source": [
    "# _Ejercicio 2_\n",
    "____"
   ]
  },
  {
   "cell_type": "markdown",
   "metadata": {},
   "source": [
    "<img src=\"datos_presa.png\" width=\"1000\" height=\"400\">"
   ]
  },
  {
   "cell_type": "markdown",
   "metadata": {},
   "source": [
    "A continuación se describe paso a paso la construcción de una tabla de frecuencias utilizando las librerías **_Pandas_** y **_numpy_**. El análisis visual de los datos corre a cuenta de las librerías **_matplotlib_** y **_seaborn_** para la representación de: gráfica de barras a partir del histograma, ojiva y polígono de frecuencias."
   ]
  },
  {
   "cell_type": "code",
   "execution_count": 1,
   "metadata": {},
   "outputs": [],
   "source": [
    "# Importación de las librerías:\n",
    "\n",
    "import matplotlib.pyplot as plt\n",
    "from scipy import stats\n",
    "from collections import defaultdict\n",
    "from bisect import bisect_left\n",
    "import pandas as pd\n",
    "import math\n",
    "import numpy as np\n",
    "import csv\n",
    "import seaborn as sns\n",
    "%matplotlib inline\n",
    "sns.set(style=\"darkgrid\")"
   ]
  },
  {
   "cell_type": "markdown",
   "metadata": {},
   "source": [
    "### **Construcción de la tabla de fecuencias**"
   ]
  },
  {
   "cell_type": "markdown",
   "metadata": {},
   "source": [
    "Los datos son previamente almacenados en una rchivo **.txt** sin ningún orden en especial o tipo de arreglo. Para este ejemplo, dicho archivo es llamado **data_ejercicio_2.txt**.\n",
    "\n",
    "Necesitaremos la creación de dos objetos de tipo _listas_ para la visualización de los datos en el archivo **.txt**. Los llamaremos `listas` y `datos`. \n",
    "\n",
    "Después se lleva a cabo la iteración de cada uno de los datos en el archivo **.txt**, dentro de un _loop_, en el objeto `listas`. Posteriormente se crea un tercer objeto, de tipo arreglo, que nos permitirá llegar a la visualización de cada uno de los datos. Lo llamaremos `np_datos`."
   ]
  },
  {
   "cell_type": "code",
   "execution_count": 2,
   "metadata": {},
   "outputs": [
    {
     "name": "stdout",
     "output_type": "stream",
     "text": [
      "los datos, ordenados, son los siguientes [40.3 40.3 40.4 40.4 40.5 40.5 41.2 41.2 42.4 42.4 42.8 42.8 42.9 42.9\n",
      " 43.1 43.1 43.2 43.2 43.2 43.2 43.3 43.3 43.4 43.4 44.6 44.6 45.1 45.1\n",
      " 45.5 45.6 46.2 46.2 46.4 46.4 46.6 46.6 46.6 46.6 46.6 46.9 46.9 47.5\n",
      " 47.5 47.7 47.7 47.8 48.1 48.1 48.4 48.4 48.4 48.4 48.6 48.6 48.8 48.8\n",
      " 49.1 49.1 49.2 49.2 49.3 49.3 49.3 49.3 49.7 49.7 49.8 49.8 50.1 50.1\n",
      " 50.2 50.2 50.2 50.2 50.2 50.2 50.9 50.9 51.1 51.1 51.2 51.2 51.2 51.2\n",
      " 51.4 51.6 51.6 51.8 51.8 52.4 52.4 52.8 52.8 52.8 52.8 52.8 52.8 52.9\n",
      " 52.9 53.6 53.6 53.6 53.6 53.6 53.6 53.7 53.7 53.8 53.8 54.5 54.5 54.7\n",
      " 54.7 54.8 54.8 55.2 55.2 55.5 55.5 55.8 55.8 56.3 56.3 56.8 56.8 58.4\n",
      " 58.4 59.3 59.3 59.6 59.6 60.9 60.9] "
     ]
    }
   ],
   "source": [
    "# Carga de los datos mediante la lectura del archivo fuente.txt:\n",
    "\n",
    "listas = []\n",
    "datos=[]\n",
    "\n",
    "with open('data_ejercicio_2.txt', newline='') as archivo:\n",
    "    for linea in csv.reader(archivo):\n",
    "        listas.append(linea)\n",
    "\n",
    "# Adisión de cada uno de los datos al objeto arreglo:\n",
    "\n",
    "for lista in listas:\n",
    "    for elemento in lista:\n",
    "        datos.append(float(elemento))\n",
    "        np_datos=np.sort(np.array(datos))\n",
    "\n",
    "print('los datos, ordenados, son los siguientes '+ str(np.sort(np_datos)), end=' ')"
   ]
  },
  {
   "cell_type": "markdown",
   "metadata": {},
   "source": [
    "#### _Agrupamiento (rango ($R$), amplitud ($A$)) e intervalos de clases ($k$) de los datos_\n",
    "\n",
    "\n",
    "Para calcular el número de clases _(**$k$**)_ utilizamos la función `histogram()` de la librería **_numpy_**. Esta función nos permite el cálculo de las clases mediante la regla de **_Sturges_** y **_$\\sqrt{n}$_** que ya vienen como `parámetros` integrados. Además de calcular, en una lista, los límites superiores e inferiores para cada intervalo y la frecuencia absoluta respectivamente para cada una de ellas.\n",
    "\n",
    "Tomando en cuenta lo anterior, la amplitud (**$A$**) es calculada aprovechando el resultado de los límites superiores e inferiores. \n",
    "\n",
    "Todas las medidas de posición son calculadas utilizando el objeto `np_datos` y las correspondientes funciones de **_numpy_**:"
   ]
  },
  {
   "cell_type": "code",
   "execution_count": 3,
   "metadata": {},
   "outputs": [
    {
     "name": "stdout",
     "output_type": "stream",
     "text": [
      "El número total de datos(n) es: 133\n",
      "El dato mayor es: 60.9\n",
      "El dato menor es: 40.3\n",
      "El rango(R) es igual a: 20.6\n",
      "Utilizando el método de Sturges tenemos un número de clases (k) igual a 9 con una aplitud (A) igual a 2.289\n",
      "Utilizando la raíz cuadrada, del número total de datos, tenemos un número de clases igual a :12 con una aplitud (A) igual a 1.717\n"
     ]
    }
   ],
   "source": [
    "# Número de datos\n",
    "np_datos=np.array(datos)\n",
    "print('El número total de datos(n) es: '+str(len(np_datos)))\n",
    "\n",
    "# Máximos y Mínimos\n",
    "print('El dato mayor es: '+np_datos.max().astype(str))\n",
    "print('El dato menor es: '+np_datos.min().astype(str))\n",
    "\n",
    "# Rango\n",
    "rango=np_datos.max().astype(float)-np_datos.min().astype(float)\n",
    "print('El rango(R) es igual a: '+ str(round(rango,2)))\n",
    "\n",
    "# Clases (sturges)\n",
    "sturges=np.histogram(np_datos, bins='sturges')\n",
    "sturges_a=sturges[1][1]-sturges[1][0]\n",
    "print('Utilizando el método de Sturges tenemos un número de clases (k) igual a ' + str(len(sturges[0]))+' con una aplitud (A) igual a '+\n",
    "      str(round(sturges_a,3)))\n",
    "\n",
    "# Clases (raíz cuadrada)\n",
    "sqrt=np.histogram(np_datos, bins='sqrt')\n",
    "sqrt_a=sqrt[1][1]-sqrt[1][0]\n",
    "print('Utilizando la raíz cuadrada, del número total de datos, tenemos un número de clases igual a :'+str(len(sqrt[0]))+\n",
    "      ' con una aplitud (A) igual a '+str(round(sqrt_a,3)))"
   ]
  },
  {
   "cell_type": "markdown",
   "metadata": {},
   "source": [
    "#### _Medidas de tendencia central; media, mediana y moda_\n",
    "\n",
    "Posteriormente realizamos calculamos las medidas de tendencia central `media`, `mediana` y `moda` para los datos no agrupados. Todas las medidas de centralización son calculadas utilizando el objeto `np_datos` y las funciones pertinentes de **_numpy_**:"
   ]
  },
  {
   "cell_type": "code",
   "execution_count": 4,
   "metadata": {},
   "outputs": [
    {
     "name": "stdout",
     "output_type": "stream",
     "text": [
      "la media es igual a: 49.68\n",
      "la mediana es igual a: 49.8\n",
      "la moda es igual a: ModeResult(mode=array([50.2]), count=array([6]))\n"
     ]
    }
   ],
   "source": [
    "# media \n",
    "print('la media es igual a: '+ str(round(np.mean(np_datos),3)))\n",
    "\n",
    "# mediana\n",
    "print('la mediana es igual a: '+ str(round(np.median(np_datos),3)))\n",
    "\n",
    "# moda\n",
    "print('la moda es igual a: '+ str(stats.mode(np_datos)))"
   ]
  },
  {
   "cell_type": "markdown",
   "metadata": {},
   "source": [
    "Para la presentación de los intervalos de clase es necesario agrupar los respectivos límites de clase obtenidos con la función `histogram()`. Los intervalos son agrupados con ayuda de la creación de una función nombrada `lc`. Esta función tiene la tarea de recibir los parámetros `start`, `stop` y `step`. Todos ellos salen del objeto **sturges** creado en la parte de _**\"Agrupameinto\"**_ de este script. Como medida general  el número de clases (**$k$**) es calculado mediante este método. Por lo tanto la amplitud (**$A$**) es calculada bajo este criterio."
   ]
  },
  {
   "cell_type": "code",
   "execution_count": 5,
   "metadata": {
    "scrolled": true
   },
   "outputs": [
    {
     "data": {
      "text/plain": [
       "[[40.3, 42.59],\n",
       " [42.59, 44.88],\n",
       " [44.88, 47.17],\n",
       " [47.17, 49.46],\n",
       " [49.46, 51.74],\n",
       " [51.74, 54.03],\n",
       " [54.03, 56.32],\n",
       " [56.32, 58.61],\n",
       " [58.61, 60.9]]"
      ]
     },
     "execution_count": 5,
     "metadata": {},
     "output_type": "execute_result"
    }
   ],
   "source": [
    "# Creación de los intervalos\n",
    "\"\"\"\"\"\"\n",
    "\n",
    "# La función \"lc\" recibe como parámetros dato menor, dato mayor y amplitud para agrupar los límites de clase:\n",
    "def lc(start, stop, step):\n",
    "    i=start\n",
    "    while i <= stop:\n",
    "        yield i\n",
    "        i+=step\n",
    "        yield i\n",
    "\n",
    "# Ejecución de la función \"lc\" y alojamiento de los resultado en una variable llamda \"l_inter\"\n",
    "l_inter=[]\n",
    "for i in lc(sturges[1].min(), sturges[1].max(),round(sturges_a,3)):\n",
    "    l_inter.append(round(i,2))\n",
    "\n",
    "# Construcción de una tupla para cada intervalo de clase, y creación de una lista de listas \"t_iter\" que aloja a cada uno de ellos.\n",
    "t_iter=np.array([i for i in zip(l_inter[::2],l_inter[1::2])]).tolist()\n",
    "t_iter"
   ]
  },
  {
   "cell_type": "markdown",
   "metadata": {},
   "source": [
    "#### _Medidas de agrupamiento: Marcas de Clase ($x_i$), Frecuencias absolutas ($n_i$), Frecuencias relativas ($f_i$), Frecuencias absolutas acumuladas ($N_i$) y Frecuencias relativas acumuladas ($F_i$)._\n",
    "\n",
    "Las marcas de clase, `macl`, son calculadas con la función `mean()` sobre el objeto `t_iter` y redondeado a **1** decimales. Las frecuencias absolutas, `frec_abs`, son extraidas del objeto `sturges` que alojaba dos arreglos, uno para los límites de clase y otro sus frecuencias absolutas.\n",
    "\n",
    "Para la frecuencia relativa, `frec_re`, el ćalculo lo realizamos convirtiendo en un arreglo la variable `frec_abs` y dividiendo cada uno de sus elementos entre el número total de datos. Mientras que la frecuencia absoluta acumulada. `frec_abs_ac` es calculada mediante el método `cumsum()` de _numpy_ sobre la variable `frec_abs`.\n",
    "\n",
    "Por último; para la frecuencia relativa acumulada, `frec_re_ac`, es necesario convertir en un arreglo a la variable `frec_re`. Y, a cada elemento, hay que dividirlo entre el número total de datos.\n",
    "\n",
    "Todos estos datos ahora podemos convertirlos en un _DataFrame_ de nombre **df_frec** para poderlos representar como una tabla de frecuencias."
   ]
  },
  {
   "cell_type": "code",
   "execution_count": 6,
   "metadata": {},
   "outputs": [
    {
     "data": {
      "text/html": [
       "<div>\n",
       "<style scoped>\n",
       "    .dataframe tbody tr th:only-of-type {\n",
       "        vertical-align: middle;\n",
       "    }\n",
       "\n",
       "    .dataframe tbody tr th {\n",
       "        vertical-align: top;\n",
       "    }\n",
       "\n",
       "    .dataframe thead th {\n",
       "        text-align: right;\n",
       "    }\n",
       "</style>\n",
       "<table border=\"1\" class=\"dataframe\">\n",
       "  <thead>\n",
       "    <tr style=\"text-align: right;\">\n",
       "      <th></th>\n",
       "      <th>$ci$</th>\n",
       "      <th>$x_i$</th>\n",
       "      <th>$n_i$</th>\n",
       "      <th>$f_i$</th>\n",
       "      <th>$N_i$</th>\n",
       "      <th>$F_i$</th>\n",
       "    </tr>\n",
       "  </thead>\n",
       "  <tbody>\n",
       "    <tr>\n",
       "      <th>0</th>\n",
       "      <td>[40.3, 42.59]</td>\n",
       "      <td>41.4</td>\n",
       "      <td>10</td>\n",
       "      <td>0.075188</td>\n",
       "      <td>10</td>\n",
       "      <td>0.075188</td>\n",
       "    </tr>\n",
       "    <tr>\n",
       "      <th>1</th>\n",
       "      <td>[42.59, 44.88]</td>\n",
       "      <td>43.7</td>\n",
       "      <td>16</td>\n",
       "      <td>0.120301</td>\n",
       "      <td>26</td>\n",
       "      <td>0.195489</td>\n",
       "    </tr>\n",
       "    <tr>\n",
       "      <th>2</th>\n",
       "      <td>[44.88, 47.17]</td>\n",
       "      <td>46.0</td>\n",
       "      <td>15</td>\n",
       "      <td>0.112782</td>\n",
       "      <td>41</td>\n",
       "      <td>0.308271</td>\n",
       "    </tr>\n",
       "    <tr>\n",
       "      <th>3</th>\n",
       "      <td>[47.17, 49.46]</td>\n",
       "      <td>48.3</td>\n",
       "      <td>23</td>\n",
       "      <td>0.172932</td>\n",
       "      <td>64</td>\n",
       "      <td>0.481203</td>\n",
       "    </tr>\n",
       "    <tr>\n",
       "      <th>4</th>\n",
       "      <td>[49.46, 51.74]</td>\n",
       "      <td>50.6</td>\n",
       "      <td>23</td>\n",
       "      <td>0.172932</td>\n",
       "      <td>87</td>\n",
       "      <td>0.654135</td>\n",
       "    </tr>\n",
       "    <tr>\n",
       "      <th>5</th>\n",
       "      <td>[51.74, 54.03]</td>\n",
       "      <td>52.9</td>\n",
       "      <td>22</td>\n",
       "      <td>0.165414</td>\n",
       "      <td>109</td>\n",
       "      <td>0.819549</td>\n",
       "    </tr>\n",
       "    <tr>\n",
       "      <th>6</th>\n",
       "      <td>[54.03, 56.32]</td>\n",
       "      <td>55.2</td>\n",
       "      <td>14</td>\n",
       "      <td>0.105263</td>\n",
       "      <td>123</td>\n",
       "      <td>0.924812</td>\n",
       "    </tr>\n",
       "    <tr>\n",
       "      <th>7</th>\n",
       "      <td>[56.32, 58.61]</td>\n",
       "      <td>57.5</td>\n",
       "      <td>4</td>\n",
       "      <td>0.030075</td>\n",
       "      <td>127</td>\n",
       "      <td>0.954887</td>\n",
       "    </tr>\n",
       "    <tr>\n",
       "      <th>8</th>\n",
       "      <td>[58.61, 60.9]</td>\n",
       "      <td>59.8</td>\n",
       "      <td>6</td>\n",
       "      <td>0.045113</td>\n",
       "      <td>133</td>\n",
       "      <td>1.000000</td>\n",
       "    </tr>\n",
       "  </tbody>\n",
       "</table>\n",
       "</div>"
      ],
      "text/plain": [
       "             $ci$  $x_i$  $n_i$     $f_i$  $N_i$     $F_i$\n",
       "0   [40.3, 42.59]   41.4     10  0.075188     10  0.075188\n",
       "1  [42.59, 44.88]   43.7     16  0.120301     26  0.195489\n",
       "2  [44.88, 47.17]   46.0     15  0.112782     41  0.308271\n",
       "3  [47.17, 49.46]   48.3     23  0.172932     64  0.481203\n",
       "4  [49.46, 51.74]   50.6     23  0.172932     87  0.654135\n",
       "5  [51.74, 54.03]   52.9     22  0.165414    109  0.819549\n",
       "6  [54.03, 56.32]   55.2     14  0.105263    123  0.924812\n",
       "7  [56.32, 58.61]   57.5      4  0.030075    127  0.954887\n",
       "8   [58.61, 60.9]   59.8      6  0.045113    133  1.000000"
      ]
     },
     "execution_count": 6,
     "metadata": {},
     "output_type": "execute_result"
    }
   ],
   "source": [
    "# Cálculo de las marcas de clase \"xi\".\n",
    "\"\"\"\"\"\"\n",
    "\n",
    "np_titer=np.array(t_iter)\n",
    "macl=[round(np.mean(x),1) for x in np_titer]\n",
    "\n",
    "# Frecuecias absolutas \"ni\".\n",
    "\"\"\"\"\"\"\n",
    "\n",
    "frec_abs=sturges[0]\n",
    "    \n",
    "\n",
    "# Cálulo de la frecuencia relativa \"fi\".\n",
    "\"\"\"\"\"\"\n",
    "\n",
    "np_frec=np.array(frec_abs)\n",
    "frec_re=[(f/(len(np_datos))) for f in np_frec]\n",
    "\n",
    "\n",
    "# Cálculo de la frecuencia absoluta acumulada \"Ni\".\n",
    "\"\"\"\"\"\"\n",
    "\n",
    "frec_abs_ac=list(np.cumsum(frec_abs))\n",
    "\n",
    "\n",
    "# Cálculo de la frecuencia relativa acumulada \"Fi\".\n",
    "\"\"\"\"\"\"\n",
    "\n",
    "np_frec_ac=np.array(frec_abs_ac)\n",
    "frec_re_ac=[(f/(len(np_datos))) for f in np_frec_ac]\n",
    "\n",
    "df_frec=pd.DataFrame({'$ci$':t_iter,'$x_i$':macl, '$n_i$':frec_abs, '$f_i$':frec_re, '$N_i$':frec_abs_ac, '$F_i$':frec_re_ac})\n",
    "df_frec"
   ]
  },
  {
   "cell_type": "markdown",
   "metadata": {},
   "source": [
    "### **Reprecentación gráfica de los datos**\n",
    "\n",
    "#### _Histograma, Pólígono de Frecuencias y Ojiva_\n",
    "\n",
    "Todas las representaciones gráficas para los datos son obtenidas mediante la librería `matplotlib` y `seaborn` para dar estilo. Cabe señalar que el número de intervalos, por ende el número de barras en el histograma, es calculado bajo el criterio de **Sturges**."
   ]
  },
  {
   "cell_type": "code",
   "execution_count": 7,
   "metadata": {},
   "outputs": [
    {
     "data": {
      "image/png": "[encoded data removed]",
      "text/plain": [
       "<Figure size 864x720 with 3 Axes>"
      ]
     },
     "metadata": {
      "needs_background": "light"
     },
     "output_type": "display_data"
    }
   ],
   "source": [
    "fig = plt.figure(figsize=(12,10))\n",
    "\n",
    "# HISTOGRAMA:\n",
    "\"\"\"\"\"\"\n",
    "\n",
    "ax1 = fig.add_subplot(221)\n",
    "\n",
    "plt.hist(np_datos, bins=len(sturges[0]), histtype='bar', edgecolor='k',alpha=.45, color='teal') \n",
    "plt.xticks(macl)\n",
    "plt.ylabel('Perímetros Basales (cm)')\n",
    "plt.xlabel('Marcas de Clase')\n",
    "plt.title('MEDIDAS DE LOS TRONCOS DE PLANTAS DE QUEBRANCHO \\n'+ 'UTILIZANDO EL MÉTODO PARA (K) DE STURGES')\n",
    "plt.legend(['histograma']) \n",
    "\n",
    "\n",
    "# POLÍGONO DE FRECUENCIAS:\n",
    "\"\"\"\"\"\"\n",
    "\n",
    "ax2 = fig.add_subplot(222)\n",
    "\n",
    "plt.plot(macl,frec_abs, color='green', marker='o', linestyle='dashed', )\n",
    "plt.xticks(macl)\n",
    "plt.ylabel('Frecuencia')\n",
    "plt.xlabel('Marcas de Clase')\n",
    "plt.hist(np_datos, bins=len(sturges[0]), histtype='stepfilled', edgecolor='k',alpha=0.2) \n",
    "plt.xticks(macl)\n",
    "plt.ylabel('Perímetros Basales (cm)')\n",
    "plt.xlabel('Marcas de Clase')\n",
    "plt.title('POLÍGONO DE FRECUENCIAS')\n",
    "plt.legend(['polígono de frecuencias']) \n",
    "\n",
    "ax3 = fig.add_subplot(223)\n",
    "\n",
    "plt.plot(macl,frec_abs_ac, color='green', marker='o', linestyle='dashed', )\n",
    "plt.xticks(macl)\n",
    "plt.ylabel('Frecuencia')\n",
    "plt.xlabel('Marcas de Clase')\n",
    "plt.hist(np_datos, bins=len(sturges[0]), histtype='stepfilled', edgecolor='k',alpha=0.2) \n",
    "plt.xticks(macl)\n",
    "plt.ylabel('Perímetros Basales (cm)')\n",
    "plt.xlabel('Marcas de Clase')\n",
    "plt.title('TRONCOS DE PLANTAS DE QUEBRANCHO')\n",
    "plt.legend(['ojiva']) \n",
    "\n",
    "fig.tight_layout()"
   ]
  },
  {
   "cell_type": "markdown",
   "metadata": {},
   "source": [
    "### **Medidas de Dispersión**\n",
    "\n",
    "Todos los cuartiles son calculados con ayuda de la libreía _Scipy Statistics (numpy)_, en el apartado de _Averages and variances_. Además de la varianza, desviasión estandar y el coeficiente de relación. \n",
    "\n",
    "Mientras que con ayuda de la librería _Scipy Statistics (scipy.stats)_, en el apartado de _Summary statistics_, pudimos obtener la qurtosis (**$m_4$**) y el coeficiente de variación."
   ]
  },
  {
   "cell_type": "code",
   "execution_count": 8,
   "metadata": {},
   "outputs": [
    {
     "name": "stdout",
     "output_type": "stream",
     "text": [
      "El quartil Q1 (25%) :  46.4\n",
      "El quartil Q2 (50%) :  49.8\n",
      "El quartil Q3 (75%) :  53.6\n"
     ]
    },
    {
     "data": {
      "image/png": "[encoded data removed]",
      "text/plain": [
       "<Figure size 432x288 with 1 Axes>"
      ]
     },
     "metadata": {
      "needs_background": "light"
     },
     "output_type": "display_data"
    },
    {
     "name": "stdout",
     "output_type": "stream",
     "text": [
      "La varianza es igual a: 24.511347164904745\n",
      "La desviasión estandar es ingual a: 4.9508935723669865\n",
      "El coeficiente de relación (Pearson) es ingual a: 1.0\n",
      "El coeficiente de variación es aigual a: 0.09965476278846903\n",
      "La Curtosis es igual a: -0.5802721011267109\n"
     ]
    }
   ],
   "source": [
    "print(\"El quartil Q1 (25%) : \", np.quantile(np_datos, .25)) \n",
    "print(\"El quartil Q2 (50%) : \", np.quantile(np_datos, .50)) \n",
    "print(\"El quartil Q3 (75%) : \", np.quantile(np_datos, .75))\n",
    "\n",
    "# QUANTILES:\n",
    "\"\"\"\"\"\"\n",
    "q=sns.boxplot(np_datos)\n",
    "plt.xticks(macl)\n",
    "plt.title('CUANTILES')\n",
    "plt.xlabel('Marcas de Clase')\n",
    "plt.legend(['box plot']) \n",
    "plt.show()\n",
    "\n",
    "# Cálculos usando el módulo Scipy Statistics (numpy) functions\" en el apartado de Averages and variances:\n",
    "\"\"\"\"\"\"\n",
    "print(\"La varianza es igual a: \"+str(np.var(np_datos)))\n",
    "print(\"La desviasión estandar es ingual a: \"+str(np.std(np_datos)))\n",
    "print(\"El coeficiente de relación (Pearson) es ingual a: \"+str(np.corrcoef(np_datos)))\n",
    "\n",
    "\n",
    "# Cálculos usando el módulo Scipy Statistics \"(scipy.stats) functions\" en el apartado de Summary statistics:\n",
    "\"\"\"\"\"\"\n",
    "print(\"El coeficiente de variación es aigual a: \"+str(stats.variation(np_datos)))\n",
    "print(\"La Curtosis es igual a: \"+str(stats.kurtosis(np_datos)))"
   ]
  }
 ],
 "metadata": {
  "kernelspec": {
   "display_name": "Python 3",
   "language": "python",
   "name": "python3"
  },
  "language_info": {
   "codemirror_mode": {
    "name": "ipython",
    "version": 3
   },
   "file_extension": ".py",
   "mimetype": "text/x-python",
   "name": "python",
   "nbconvert_exporter": "python",
   "pygments_lexer": "ipython3",
   "version": "3.7.3"
  }
 },
 "nbformat": 4,
 "nbformat_minor": 4
}

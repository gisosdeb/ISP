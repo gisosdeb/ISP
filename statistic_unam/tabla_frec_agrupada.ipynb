{
 "cells": [
  {
   "cell_type": "code",
   "execution_count": 72,
   "metadata": {},
   "outputs": [],
   "source": [
    "import matplotlib.pyplot as plt\n",
    "from scipy import stats\n",
    "from collections import defaultdict\n",
    "from bisect import bisect_left\n",
    "import pandas as pd\n",
    "import math\n",
    "import numpy as np\n",
    "import csv\n",
    "%matplotlib inline"
   ]
  },
  {
   "cell_type": "code",
   "execution_count": null,
   "metadata": {},
   "outputs": [],
   "source": [
    "# Importamos los datos de un archivo de texto en forma de una matriz cuadrada:\n",
    "\n",
    "datos=np.loadtxt('', delimiter=',', dtype=int)\n",
    "datos"
   ]
  },
  {
   "cell_type": "code",
   "execution_count": 114,
   "metadata": {},
   "outputs": [
    {
     "name": "stdout",
     "output_type": "stream",
     "text": [
      "los datos, agrupados, son los siguientes [ 90.  95.  96. 108. 114. 116. 119. 123. 130. 141. 147. 149. 150. 151.\n",
      " 154. 157. 163. 171. 172. 175. 178. 183. 185. 202. 206.] "
     ]
    }
   ],
   "source": [
    "# importación de los datos de un archivo de texto sin ningún orden:\n",
    "\n",
    "listas = []\n",
    "datos=[]\n",
    "\n",
    "with open('frecuencias_ejemplo1.txt', newline='') as archivo:\n",
    "    for linea in csv.reader(archivo):\n",
    "        listas.append(linea)\n",
    "        \n",
    "for lista in listas:\n",
    "    for elemento in lista:\n",
    "        datos.append(float(elemento))\n",
    "        np_datos=np.sort(np.array(datos))\n",
    "                         \n",
    "print('los datos, agrupados, son los siguientes '+ str(np.sort(np_datos)), end=' ')"
   ]
  },
  {
   "cell_type": "code",
   "execution_count": 118,
   "metadata": {},
   "outputs": [
    {
     "name": "stdout",
     "output_type": "stream",
     "text": [
      "la media es igual a: 147.0\n",
      "la media es igual a: 150.0\n",
      "la media es igual a: ModeResult(mode=array([90.]), count=array([1]))\n"
     ]
    }
   ],
   "source": [
    "\"\"\" Cálculo de las medidas de tendencia central para los daton no agrupados \"\"\"\n",
    "\n",
    "# media \n",
    "print('la media es igual a: '+ str(np.mean(np_datos)))\n",
    "\n",
    "# mediana\n",
    "print('la media es igual a: '+ str(np.median(np_datos)))\n",
    "\n",
    "# moda\n",
    "print('la media es igual a: '+ str(stats.mode(np_datos)))"
   ]
  },
  {
   "cell_type": "code",
   "execution_count": null,
   "metadata": {},
   "outputs": [],
   "source": [
    "\"\"\"Cálculo de las cantidades índices de la tabla de frecuencia\"\"\"\n",
    "\n",
    "# El número total de datos es:\n",
    "np_datos=np.array(datos)\n",
    "print('El número total de datos(n) es: '+str(len(np_datos)))\n",
    "\n",
    "# Los máximos y mínimos son:\n",
    "print('El dato mayor es: '+np_datos.max().astype(str))\n",
    "print('El dato menor es: '+np_datos.min().astype(str))\n",
    "\n",
    "# Rango\n",
    "rango=np_datos.max().astype(float)-np_datos.min().astype(float)\n",
    "print('El rango(R) es igual a: '+ str(rango))"
   ]
  },
  {
   "cell_type": "code",
   "execution_count": 123,
   "metadata": {
    "scrolled": true
   },
   "outputs": [
    {
     "name": "stdout",
     "output_type": "stream",
     "text": [
      "El número total de datos(n) es: 25\n",
      "El dato mayor es: 206.0\n",
      "El dato menor es: 90.0\n",
      "El rango(R) es igual a: 116.0\n",
      "Aplicando Sturges [1 + 3.322 (log(n))]: \n",
      "       (Κ) es igual a \"5.64\". El número aproximado de intervalos sería de 6,\n",
      "       pero 6 es un número par. Por convención necesitamos tomar la cifra siguiete, que sea mayor e impar, o sea (Κ)=7.\n",
      "       Y la amplitud(A) igual a (R/(Κ)) es 17.0\n"
     ]
    }
   ],
   "source": [
    "# Amplitud y número de intervalos de clase utilizando el operador módulo para la verificación de cantidades pares o impares. \n",
    "\"\"\"\"\"\"\n",
    "\n",
    "# Omitase esta función si el número de intervalos de clase es proporcionado. Calculese la amplitud(A) de manera directa mediante (R/k) y coloquese, \n",
    "# como parámetro \"rests\", en el siguiente bloque de código.\n",
    "\n",
    "# Esta fucnión calcula el número de intervalo de clases:\n",
    "\n",
    "def inter_clases(k):\n",
    "    print('Aplicando Sturges [1 + 3.322 (log(n))]: \\n'\n",
    "          '       (\\u039A) es igual a ' +'\"'+str(round(k,2))+'\"'+'. El número aproximado de intervalos sería de ' +str(round(k))+',')\n",
    "    \n",
    "    # Confirmación de números pares mediante el módulo de un número:\n",
    "    if round(k)%2==0:\n",
    "        print('       pero '+str(round(k))+ ' es un número par. Por convención necesitamos tomar la cifra siguiete, que sea mayor e impar, o sea (\\u039A)='+str(round(k+1))+'.\\n'\n",
    "         '       Y la amplitud(A) igual a (R/(\\u039A)) es '+str(round(rango/round(k+1))))\n",
    "        return round(rango/round(k+1))\n",
    "       \n",
    "    else:\n",
    "        print('       y '+str(round(k)) + ' es un numero impar. Por convención tomamos este número como cantidad de intervalos. Entonces (\\u039A) es igual a '+str(round(k))+'.\\n'\n",
    "              '       Y la amplitud(A) igual a (R/(\\u039A)) es '+str(round(rango/(round(k)))))\n",
    "        return round(rango/(round(k)))\n",
    "\n",
    "# Ejecución de la función \"inter_clases\" para obtener el número de clases (k) y la amplitud (A) en una variable llamada \"rests\". \n",
    "rests=inter_clases(1+(3.322*(math.log10(len(np_datos)))))"
   ]
  },
  {
   "cell_type": "code",
   "execution_count": 121,
   "metadata": {},
   "outputs": [
    {
     "data": {
      "text/plain": [
       "[[90.0, 107.0],\n",
       " [107.0, 124.0],\n",
       " [124.0, 141.0],\n",
       " [141.0, 158.0],\n",
       " [158.0, 175.0],\n",
       " [175.0, 192.0],\n",
       " [192.0, 209.0]]"
      ]
     },
     "execution_count": 121,
     "metadata": {},
     "output_type": "execute_result"
    }
   ],
   "source": [
    "# creación de los intervalos:\n",
    "def intervalo(start, stop, step):\n",
    "    i=start\n",
    "    while i <= stop:\n",
    "        yield i\n",
    "        i+=step\n",
    "        yield i\n",
    "\n",
    "l_inter=[]\n",
    "for i in intervalo(np_datos.min(), np_datos.max(),rests):\n",
    "    l_inter.append(i)\n",
    "\n",
    "# Tupla y después listas con los intervalos en la variable \"t_iter\":\n",
    "t_iter=np.array([i for i in zip(l_inter[::2],l_inter[1::2])]).tolist()\n",
    "t_iter"
   ]
  },
  {
   "cell_type": "code",
   "execution_count": 95,
   "metadata": {},
   "outputs": [],
   "source": [
    "# Cálculo de las marcas de clase \"x\"\n",
    "\"\"\"\"\"\"\n",
    "\n",
    "# Las marcas de clase son igual al promedio, entre cada uno d los L.I. y L.S., para cada intervalo de clase. Es necesario la construcción de un arreglo \n",
    "# sobre la lista \"t_iter\" y la aplicación de la función \"np.mean()\" para calcular el promedio de cada uno de los intervalos:\n",
    "np_titer=np.array(t_iter)\n",
    "macl=[np.mean(x) for x in np_titer]\n",
    "\n",
    "# Cálculo de las frecuecias absolutas\n",
    "\"\"\"\"\"\"\n",
    "\n",
    "# Función que realiza el conteo de los datos y asigna para cada intervalo de clase su frecuencia absoluta:\n",
    "def frecuencia(li, min, max):\n",
    "    ctr = 0\n",
    "    for x in li:\n",
    "        if min <= x < max:\n",
    "            ctr += 1\n",
    "    return ctr\n",
    "\n",
    "# Ejecución de la función \"frecuencias\" para que pueda iterar sobre los rangos de la lista \"t_iter\". Los resultados son alojados dentro de la variable \n",
    "# \"frec_abs\"\n",
    "frec_abs=[]\n",
    "for d in t_iter:\n",
    "    frec_abs.append(frecuencia(datos, d[0], d[1]))\n",
    "    \n",
    "\n",
    "# Cálulo de la frecuencia relativa\n",
    "\"\"\"\"\"\"\n",
    "\n",
    "# Construimos un arreglo sobre la lista \"frec_abs\" y a cada elemento lo dividimos entre el número total de datos:\n",
    "np_frec=np.array(frec_abs)\n",
    "frec_re=[(f/(len(np_datos))) for f in np_frec]\n",
    "\n",
    "# Cálculo de la frecuencia absoluta acumulada\n",
    "\"\"\"\"\"\"\n",
    "\n",
    "# Pasamos como parámetro, a la función \"np.cumsum\", el arreglo \"frec_abs\":\n",
    "frec_abs_ac=list(np.cumsum(frec_abs))\n",
    "\n"
   ]
  },
  {
   "cell_type": "code",
   "execution_count": 122,
   "metadata": {},
   "outputs": [
    {
     "data": {
      "text/html": [
       "<div>\n",
       "<style scoped>\n",
       "    .dataframe tbody tr th:only-of-type {\n",
       "        vertical-align: middle;\n",
       "    }\n",
       "\n",
       "    .dataframe tbody tr th {\n",
       "        vertical-align: top;\n",
       "    }\n",
       "\n",
       "    .dataframe thead th {\n",
       "        text-align: right;\n",
       "    }\n",
       "</style>\n",
       "<table border=\"1\" class=\"dataframe\">\n",
       "  <thead>\n",
       "    <tr style=\"text-align: right;\">\n",
       "      <th></th>\n",
       "      <th>clases</th>\n",
       "      <th>marcas_clase</th>\n",
       "      <th>frec_absoluta</th>\n",
       "      <th>frec_relativa</th>\n",
       "      <th>frec_abs_acumulada</th>\n",
       "    </tr>\n",
       "  </thead>\n",
       "  <tbody>\n",
       "    <tr>\n",
       "      <th>0</th>\n",
       "      <td>[90.0, 107.0]</td>\n",
       "      <td>98.5</td>\n",
       "      <td>3</td>\n",
       "      <td>0.12</td>\n",
       "      <td>3</td>\n",
       "    </tr>\n",
       "    <tr>\n",
       "      <th>1</th>\n",
       "      <td>[107.0, 124.0]</td>\n",
       "      <td>115.5</td>\n",
       "      <td>5</td>\n",
       "      <td>0.20</td>\n",
       "      <td>8</td>\n",
       "    </tr>\n",
       "    <tr>\n",
       "      <th>2</th>\n",
       "      <td>[124.0, 141.0]</td>\n",
       "      <td>132.5</td>\n",
       "      <td>1</td>\n",
       "      <td>0.04</td>\n",
       "      <td>9</td>\n",
       "    </tr>\n",
       "    <tr>\n",
       "      <th>3</th>\n",
       "      <td>[141.0, 158.0]</td>\n",
       "      <td>149.5</td>\n",
       "      <td>7</td>\n",
       "      <td>0.28</td>\n",
       "      <td>16</td>\n",
       "    </tr>\n",
       "    <tr>\n",
       "      <th>4</th>\n",
       "      <td>[158.0, 175.0]</td>\n",
       "      <td>166.5</td>\n",
       "      <td>3</td>\n",
       "      <td>0.12</td>\n",
       "      <td>19</td>\n",
       "    </tr>\n",
       "    <tr>\n",
       "      <th>5</th>\n",
       "      <td>[175.0, 192.0]</td>\n",
       "      <td>183.5</td>\n",
       "      <td>4</td>\n",
       "      <td>0.16</td>\n",
       "      <td>23</td>\n",
       "    </tr>\n",
       "    <tr>\n",
       "      <th>6</th>\n",
       "      <td>[192.0, 209.0]</td>\n",
       "      <td>200.5</td>\n",
       "      <td>2</td>\n",
       "      <td>0.08</td>\n",
       "      <td>25</td>\n",
       "    </tr>\n",
       "  </tbody>\n",
       "</table>\n",
       "</div>"
      ],
      "text/plain": [
       "           clases  marcas_clase  frec_absoluta  frec_relativa  \\\n",
       "0   [90.0, 107.0]          98.5              3           0.12   \n",
       "1  [107.0, 124.0]         115.5              5           0.20   \n",
       "2  [124.0, 141.0]         132.5              1           0.04   \n",
       "3  [141.0, 158.0]         149.5              7           0.28   \n",
       "4  [158.0, 175.0]         166.5              3           0.12   \n",
       "5  [175.0, 192.0]         183.5              4           0.16   \n",
       "6  [192.0, 209.0]         200.5              2           0.08   \n",
       "\n",
       "   frec_abs_acumulada  \n",
       "0                   3  \n",
       "1                   8  \n",
       "2                   9  \n",
       "3                  16  \n",
       "4                  19  \n",
       "5                  23  \n",
       "6                  25  "
      ]
     },
     "execution_count": 122,
     "metadata": {},
     "output_type": "execute_result"
    }
   ],
   "source": [
    "df_frec=pd.DataFrame({'clases':t_iter,'marcas_clase':macl, 'frec_absoluta':frec_abs, 'frec_relativa':frec_re, 'frec_abs_acumulada':frec_abs_ac})\n",
    "df_frec"
   ]
  }
 ],
 "metadata": {
  "kernelspec": {
   "display_name": "Python 3",
   "language": "python",
   "name": "python3"
  },
  "language_info": {
   "codemirror_mode": {
    "name": "ipython",
    "version": 3
   },
   "file_extension": ".py",
   "mimetype": "text/x-python",
   "name": "python",
   "nbconvert_exporter": "python",
   "pygments_lexer": "ipython3",
   "version": "3.7.3"
  }
 },
 "nbformat": 4,
 "nbformat_minor": 4
}

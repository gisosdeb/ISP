{
 "cells": [
  {
   "cell_type": "markdown",
   "metadata": {},
   "source": [
    "# _Ejercicio 1.10_\n",
    "____"
   ]
  },
  {
   "cell_type": "markdown",
   "metadata": {},
   "source": [
    "A continuación se describe, paso a paso, la construcción de una tabla de frecuencias, la realización de una gráfica de barras a partir del histograma de los datos, ojiva y polígono de frecuencias mediante las librerías **_PANDAS_, _Numpy_ y _matplolib_** en python. Todo esto partiendo desde un archivo **.txt** con datos y utilizando el método de **_Sturges_** para el cálculo de las _**clases $(k)$**_."
   ]
  },
  {
   "cell_type": "code",
   "execution_count": 6,
   "metadata": {},
   "outputs": [],
   "source": [
    "# Importación de las librerías:\n",
    "\n",
    "import matplotlib.pyplot as plt\n",
    "import matplotlib.patches as polygon\n",
    "from matplotlib.collections import PatchCollection\n",
    "from scipy import stats\n",
    "from collections import defaultdict\n",
    "from bisect import bisect_left\n",
    "import pandas as pd\n",
    "import math\n",
    "import numpy as np\n",
    "import csv\n",
    "import seaborn as sns\n",
    "%matplotlib inline\n",
    "sns.set(style=\"darkgrid\")\n"
   ]
  },
  {
   "cell_type": "markdown",
   "metadata": {},
   "source": [
    "Los datos son previamente almacenados en una rchivo **.txt** sin ningún orden en especial o tipo de arreglo. Para este ejemplo, dicho archivo es llamado **frecuencias_ejemplo1.txt**.\n",
    "\n",
    "Para ello necesitaremos la creación de dos objetos, de tipo _listas_, para la extracción de los datos y visualización. Las llamaremos `listas` y `datos`. Posteriormente se iterará en un _loop_ para su presentación, pero antes es necesario crear un tercer objeto, de tipo arreglo, que nos permitirá reailzar los cálculos pertinentes sobre cada dato. Lo llamaremos `np_datos`:"
   ]
  },
  {
   "cell_type": "code",
   "execution_count": 8,
   "metadata": {},
   "outputs": [
    {
     "name": "stdout",
     "output_type": "stream",
     "text": [
      "los datos, ordenados, son los siguientes [ 90.  95.  96. 108. 114. 116. 119. 123. 130. 141. 147. 149. 150. 151.\n",
      " 154. 157. 163. 171. 172. 175. 178. 183. 185. 202. 206.] "
     ]
    }
   ],
   "source": [
    "# Carga de los datos y lectura del archivo fuente.txt:\n",
    "\n",
    "listas = []\n",
    "datos=[]\n",
    "\n",
    "with open('frecuencias_ejemplo1.txt', newline='') as archivo:\n",
    "    for linea in csv.reader(archivo):\n",
    "        listas.append(linea)\n",
    "\n",
    "# Adisión de cada uno de los datos al objeto arreglo:\n",
    "\n",
    "for lista in listas:\n",
    "    for elemento in lista:\n",
    "        datos.append(float(elemento))\n",
    "        np_datos=np.sort(np.array(datos))\n",
    "                         \n",
    "print('los datos, ordenados, son los siguientes '+ str(np.sort(np_datos)), end=' ')"
   ]
  },
  {
   "cell_type": "markdown",
   "metadata": {},
   "source": [
    "Posteriormente realizamos las operaciones básicas, de las medidas de tendencia central, para los datos no agrupados `media`, `mediana` y `moda` utilizando _**Numpy**_ sobre el objeto `np_datos` y las respectivas funciones:"
   ]
  },
  {
   "cell_type": "code",
   "execution_count": null,
   "metadata": {},
   "outputs": [],
   "source": [
    "# Número de datos\n",
    "np_datos=np.array(datos)\n",
    "print('El número total de datos(n) es: '+str(len(np_datos)))\n",
    "\n",
    "# media \n",
    "print('la media es igual a: '+ str(np.mean(np_datos)))\n",
    "\n",
    "# mediana\n",
    "print('la mediana es igual a: '+ str(np.median(np_datos)))\n",
    "\n",
    "# moda\n",
    "print('la moda es igual a: '+ str(stats.mode(np_datos)))"
   ]
  },
  {
   "cell_type": "markdown",
   "metadata": {},
   "source": [
    "Cálculo de las cantidades índices de la tabla de frecuencia utilizando sobre el objeto `np_datos` y las funciones pertinentes:"
   ]
  },
  {
   "cell_type": "code",
   "execution_count": null,
   "metadata": {},
   "outputs": [],
   "source": [
    "# Máximos y Mínimos\n",
    "print('El dato mayor es: '+np_datos.max().astype(str))\n",
    "print('El dato menor es: '+np_datos.min().astype(str))\n",
    "\n",
    "# Rango\n",
    "rango=np_datos.max().astype(float)-np_datos.min().astype(float)\n",
    "print('El rango(R) es igual a: '+ str(rango))"
   ]
  },
  {
   "cell_type": "code",
   "execution_count": null,
   "metadata": {
    "scrolled": true
   },
   "outputs": [],
   "source": [
    "# Amplitud y número de intervalos de clase utilizando el operador módulo para la verificación de cantidades pares o impares. \n",
    "\"\"\"\"\"\"\n",
    "\n",
    "# Omitase esta función si el número de intervalos de clase es proporcionado. Calculese la amplitud(A) de manera directa mediante (R/k) y\n",
    "# coloquese, en lugar del parámetro \"rests\", en la siguiente función \"intervalo\" que es el siguiente bloque de este script.\n",
    "\n",
    "# Esta fucnión calcula el número de intervalo de clases:\n",
    "\n",
    "def inter_clases(k):\n",
    "    print('Aplicando Sturges [1 + 3.322 (log(n))]: \\n'\n",
    "          '       (\\u039A) es igual a ' +'\"'+str(round(k,2))+'\"'+'. El número aproximado de intervalos sería de ' +str(round(k))+',')\n",
    "    \n",
    "    # Confirmación de números pares mediante el módulo de un número:\n",
    "    if round(k)%2==0:\n",
    "        print('       pero '+str(round(k))+ ' es un número par. Por convención necesitamos tomar la cifra siguiete, que sea mayor e impar, o sea (\\u039A)='+str(round(k+1))+'.\\n'\n",
    "         '       Y la amplitud(A) igual a (R/(\\u039A)) es '+str(round(rango/round(k+1))))\n",
    "        return round(rango/round(k+1))\n",
    "       \n",
    "    else:\n",
    "        print('       y '+str(round(k)) + ' es un número impar. Por convención tomamos este número como cantidad de intervalos. Entonces (\\u039A) es igual a '+str(round(k))+'.\\n'\n",
    "              '       Y la amplitud(A) igual a (R/(\\u039A)) es '+str(round(rango/(round(k)))))\n",
    "        return round(rango/(round(k)))\n",
    "\n",
    "# Ejecución de la función \"inter_clases\" para obtener el número de clases (k) y la amplitud (A) en una variable llamada \"rests\". \n",
    "rests=inter_clases(1+(3.322*(math.log10(len(np_datos)))))"
   ]
  },
  {
   "cell_type": "code",
   "execution_count": null,
   "metadata": {},
   "outputs": [],
   "source": [
    "# Creación de los intervalos\n",
    "\"\"\"\"\"\"\n",
    "\n",
    "# Esta función recibe como parámetros (dato menor, dato mayor, amplitud) para calcular los intervalos de clase:\n",
    "def intervalo(start, stop, step):\n",
    "    i=start\n",
    "    while i <= stop:\n",
    "        yield i\n",
    "        i+=step\n",
    "        yield i\n",
    "\n",
    "# Ejecución de la función \"intervalo\" y alojamiento de los resultado en una variable llamda \"l_inter\"\n",
    "l_inter=[]\n",
    "for i in intervalo(np_datos.min(), np_datos.max(),rests):\n",
    "    l_inter.append(i)\n",
    "\n",
    "# Construcción de una tupla para cada intervalo y creación de una lista de listas \"t_iter\" que aloja a cada una de ellas:\n",
    "t_iter=np.array([i for i in zip(l_inter[::2],l_inter[1::2])]).tolist()\n",
    "t_iter"
   ]
  },
  {
   "cell_type": "code",
   "execution_count": null,
   "metadata": {},
   "outputs": [],
   "source": [
    "# Cálculo de las marcas de clase \"x\"\n",
    "\"\"\"\"\"\"\n",
    "\n",
    "# Las marcas de clase son igual al promedio, entre cada uno d los L.I. y L.S., para cada intervalo de clase. Es necesario la construcción de un arreglo \n",
    "# sobre la lista \"t_iter\" y la aplicación de la función \"np.mean()\" para calcular el promedio de cada uno de los intervalos:\n",
    "np_titer=np.array(t_iter)\n",
    "macl=[np.mean(x) for x in np_titer]\n",
    "\n",
    "# Cálculo de las frecuecias absolutas\n",
    "\"\"\"\"\"\"\n",
    "\n",
    "# Función que realiza el conteo de los datos y asigna para cada intervalo de clase su frecuencia absoluta:\n",
    "def frecuencia(li, min, max):\n",
    "    ctr = 0\n",
    "    for x in li:\n",
    "        if min <= x < max:\n",
    "            ctr += 1\n",
    "    return ctr\n",
    "\n",
    "# Ejecución de la función \"frecuencias\" para que pueda iterar sobre los rangos de la lista \"t_iter\". Los resultados son alojados \n",
    "# dentro de la variable \"frec_abs\":\n",
    "frec_abs=[]\n",
    "for d in t_iter:\n",
    "    frec_abs.append(frecuencia(datos, d[0], d[1]))\n",
    "    \n",
    "\n",
    "# Cálulo de la frecuencia relativa\n",
    "\"\"\"\"\"\"\n",
    "\n",
    "# Construimos un arreglo sobre la lista \"frec_abs\" y a cada elemento lo dividimos entre el número total de datos:\n",
    "np_frec=np.array(frec_abs)\n",
    "frec_re=[(f/(len(np_datos))) for f in np_frec]\n",
    "\n",
    "# Cálculo de la frecuencia absoluta acumulada\n",
    "\"\"\"\"\"\"\n",
    "\n",
    "# Pasamos como parámetro, a la función \"np.cumsum\", el arreglo \"frec_abs\":\n",
    "frec_abs_ac=list(np.cumsum(frec_abs))\n",
    "\n"
   ]
  },
  {
   "cell_type": "markdown",
   "metadata": {},
   "source": [
    "##### Los datos son alojados en un _Dataframe_ llamado **df_frec**."
   ]
  },
  {
   "cell_type": "code",
   "execution_count": null,
   "metadata": {},
   "outputs": [],
   "source": [
    "df_frec=pd.DataFrame({'clases':t_iter,'marcas_clase':macl, 'frec_absoluta':frec_abs, 'frec_relativa':frec_re, 'frec_abs_acumulada':frec_abs_ac})\n",
    "df_frec"
   ]
  },
  {
   "cell_type": "code",
   "execution_count": null,
   "metadata": {},
   "outputs": [],
   "source": [
    "plt.title('HISTOGRAMA')\n",
    "plt.ylabel('Frecuencia')\n",
    "plt.xlabel('Marcas de Clase')\n",
    "plt.xticks(df_frec.marcas_clase)\n",
    "sns.distplot(np_datos, bins=bins, hist=True, kde=False, color=\"teal\", label='hola')\n",
    "plt.show()"
   ]
  },
  {
   "cell_type": "markdown",
   "metadata": {},
   "source": [
    "Creación del **Histograma:**"
   ]
  },
  {
   "cell_type": "code",
   "execution_count": null,
   "metadata": {},
   "outputs": [],
   "source": [
    "fig = plt.figure(figsize=(11,10))\n",
    "# fig = plt.figure()\n",
    "\n",
    "ax1 = fig.add_subplot(221)\n",
    "\n",
    "def intervalo(start, stop, step):\n",
    "    i=start\n",
    "    while i <= stop:\n",
    "        i+=step\n",
    "        yield i\n",
    "\n",
    "# Ejecución de la función \"intervalo\" y alojamiento de los resultado en una variable llamda \"l_inter\"\n",
    "l_inter=[]\n",
    "for i in intervalo(np_datos.min(), np_datos.max(),rests):\n",
    "    l_inter.append(i)\n",
    "\n",
    "# Construcción de los \"bins\" (marcas de clase) del histogramas:\n",
    "b1=[np_datos.min().tolist()]\n",
    "b2=[float(b) for b in l_inter]\n",
    "bins=b1+b2\n",
    "\n",
    "# Impresión del Histograma con \"Mathplotlib\":\n",
    "plt.hist(np_datos, bins=bins, histtype='bar', edgecolor='k',alpha=.45, color='teal') \n",
    "plt.xticks(df_frec.marcas_clase)\n",
    "plt.ylabel('Frecuencia')\n",
    "plt.xlabel('Marcas de Clase')\n",
    "plt.title('HISTOGRAMA')\n",
    "# plt.show()\n",
    "\n",
    "ax2 = fig.add_subplot(222)\n",
    "plt.plot(macl,frec_abs, color='green', marker='o', linestyle='dashed', )\n",
    "plt.xticks(df_frec.marcas_clase)\n",
    "plt.ylabel('Frecuencia')\n",
    "plt.xlabel('Marcas de Clase')\n",
    "# plt.title('POLÍGONO DE FRECUENCIAS')\n",
    "plt.hist(np_datos, bins=bins, histtype='bar', edgecolor='k',alpha=0.2) \n",
    "plt.xticks(df_frec.marcas_clase)\n",
    "plt.ylabel('Frecuencia')\n",
    "plt.xlabel('Marcas de Clase')\n",
    "plt.title('POLÍGONO DE FRECUENCIAS')\n",
    "plt.legend(['poligono']) \n",
    "\n",
    "ax3 = fig.add_subplot(223)\n",
    "\n",
    "plt.plot(macl,frec_abs, color='green', marker='o', linestyle='dashed', )\n",
    "plt.xticks(df_frec.marcas_clase)\n",
    "plt.ylabel('Frecuencia')\n",
    "plt.xlabel('Marcas de Clase')\n",
    "# plt.title('POLÍGONO DE FRECUENCIAS')\n",
    "plt.hist(np_datos, bins=bins, histtype='bar', edgecolor='k',alpha=0.2) \n",
    "plt.xticks(df_frec.marcas_clase)\n",
    "plt.ylabel('Frecuencia')\n",
    "plt.xlabel('Marcas de Clase')\n",
    "plt.title('POLÍGONO DE FRECUENCIAS')\n",
    "plt.legend(['poligono']) \n",
    "# plt.show\n",
    "fig.tight_layout()"
   ]
  },
  {
   "cell_type": "code",
   "execution_count": null,
   "metadata": {},
   "outputs": [],
   "source": [
    "plt.title('HISTOGRAMA')\n",
    "plt.ylabel('Frecuencia')\n",
    "plt.xlabel('Marcas de Clase')\n",
    "plt.xticks(df_frec.marcas_clase)\n",
    "sns.distplot(np_datos, bins=bins, hist=False, kde=True, color=\"teal\", norm_hist=True)\n",
    "plt.show()"
   ]
  }
 ],
 "metadata": {
  "kernelspec": {
   "display_name": "Python 3",
   "language": "python",
   "name": "python3"
  },
  "language_info": {
   "codemirror_mode": {
    "name": "ipython",
    "version": 3
   },
   "file_extension": ".py",
   "mimetype": "text/x-python",
   "name": "python",
   "nbconvert_exporter": "python",
   "pygments_lexer": "ipython3",
   "version": "3.7.4"
  }
 },
 "nbformat": 4,
 "nbformat_minor": 4
}

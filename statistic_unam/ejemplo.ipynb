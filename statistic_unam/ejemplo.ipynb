{
 "cells": [
  {
   "cell_type": "markdown",
   "metadata": {},
   "source": [
    "# _Ejercicio 1_\n",
    "____"
   ]
  },
  {
   "cell_type": "markdown",
   "metadata": {},
   "source": [
    "<img src=\"datos_monte_chaco.png\" width=\"1000\" height=\"400\">"
   ]
  },
  {
   "cell_type": "markdown",
   "metadata": {},
   "source": [
    "A continuación se describe, paso a paso, la construcción de una tabla de frecuencias, la realización de una gráfica de barras a partir del histograma de los datos, ojiva y polígono de frecuencias mediante las librerías **_PANDAS_, _Numpy_ y _matplolib_** en python. Todo esto partiendo desde un archivo **.txt** con datos y utilizando el método de **_Sturges_** para el cálculo de las _**clases $(k)$**_."
   ]
  },
  {
   "cell_type": "code",
   "execution_count": 1,
   "metadata": {},
   "outputs": [],
   "source": [
    "# Importación de las librerías:\n",
    "\n",
    "import matplotlib.pyplot as plt\n",
    "import matplotlib.patches as polygon\n",
    "from matplotlib.collections import PatchCollection\n",
    "from scipy import stats\n",
    "from collections import defaultdict\n",
    "from bisect import bisect_left\n",
    "import pandas as pd\n",
    "import math\n",
    "import numpy as np\n",
    "import csv\n",
    "import seaborn as sns\n",
    "%matplotlib inline\n",
    "sns.set(style=\"darkgrid\")"
   ]
  },
  {
   "cell_type": "markdown",
   "metadata": {},
   "source": [
    "### **Construcción de la tabla de fecuencias**"
   ]
  },
  {
   "cell_type": "markdown",
   "metadata": {},
   "source": [
    "Los datos son previamente almacenados en una rchivo **.txt** sin ningún orden en especial o tipo de arreglo. Para este ejemplo, dicho archivo es llamado **ejercicio_2.txt**.\n",
    "\n",
    "Para ello necesitaremos la creación de dos objetos, de tipo _listas_, para la extracción de los datos y visualización. Las llamaremos `listas` y `datos`. Posteriormente se iterará en un _loop_ para su presentación, pero antes es necesario crear un tercer objeto, de tipo arreglo, que nos permitirá reailzar los cálculos pertinentes sobre cada dato. Lo llamaremos `np_datos`:\n",
    "\n",
    "#### _Medidas de posición: núumero total de datos ($N$), máximos, mínimos y rango._\n",
    "\n",
    "Todas las medidas de posición son calculadas utilizando el objeto `np_datos` y las funciones pertinentes de **_Numpy_**:"
   ]
  },
  {
   "cell_type": "code",
   "execution_count": 2,
   "metadata": {},
   "outputs": [
    {
     "name": "stdout",
     "output_type": "stream",
     "text": [
      "los datos, ordenados, son los siguientes [ 7.47  7.5   7.52  7.54  7.83  7.96  7.96  8.12  8.16  8.28  8.31  8.36\n",
      "  8.42  8.5   8.62  8.63  9.2   9.32  9.77 10.16 10.8 ] "
     ]
    }
   ],
   "source": [
    "# Carga de los datos mediante la lectura del archivo fuente.txt:\n",
    "\n",
    "listas = []\n",
    "datos=[]\n",
    "\n",
    "with open('ejemplo.txt', newline='') as archivo:\n",
    "    for linea in csv.reader(archivo):\n",
    "        listas.append(linea)\n",
    "\n",
    "# Adisión de cada uno de los datos al objeto arreglo:\n",
    "\n",
    "for lista in listas:\n",
    "    for elemento in lista:\n",
    "        datos.append(float(elemento))\n",
    "        np_datos=np.sort(np.array(datos))\n",
    "\n",
    "print('los datos, ordenados, son los siguientes '+ str(np.sort(np_datos)), end=' ')"
   ]
  },
  {
   "cell_type": "markdown",
   "metadata": {},
   "source": [
    "#### _Medidas de tendencia central; media, mediana y moda_\n",
    "\n",
    "Posteriormente realizamos calculamos las medidas de tendencia central `media`, `mediana` y `moda` para los datos no agrupados. Todas las medidas de tendencia central son calculadas utilizando el objeto `np_datos` y las funciones pertinentes de **_Numpy_**:"
   ]
  },
  {
   "cell_type": "code",
   "execution_count": 4,
   "metadata": {},
   "outputs": [
    {
     "name": "stdout",
     "output_type": "stream",
     "text": [
      "la media es igual a: 8.497\n",
      "la mediana es igual a: 8.31\n",
      "la moda es igual a: ModeResult(mode=array([7.96]), count=array([2]))\n"
     ]
    }
   ],
   "source": [
    "# media \n",
    "print('la media es igual a: '+ str(round(np.mean(np_datos),3)))\n",
    "\n",
    "# mediana\n",
    "print('la mediana es igual a: '+ str(round(np.median(np_datos),3)))\n",
    "\n",
    "# moda\n",
    "print('la moda es igual a: '+ str(stats.mode(np_datos)))"
   ]
  },
  {
   "cell_type": "markdown",
   "metadata": {},
   "source": [
    "#### _Medidas de posición; rango ($R$), clases ($k$) y amplitud del intervalo de clase ($A$)_\n",
    "\n",
    "Para calcular el número de clases que debe de haber en el histograma _($k$)_, utilizamos la función del módulo **_Numpy_** `histogram_bin_edges()`. Las clases son calculadas mediante la regla de **_Sturges_**, que viene como parámetro integrado (`bin='sturges'`) en esta función. Y calcula el número de clases que debe haber en un histograma."
   ]
  },
  {
   "cell_type": "code",
   "execution_count": 29,
   "metadata": {},
   "outputs": [
    {
     "name": "stdout",
     "output_type": "stream",
     "text": [
      "El número total de datos(n) es: 21\n",
      "El dato mayor es: 10.8\n",
      "El dato menor es: 7.47\n",
      "El rango(R) es igual a: 3.33\n",
      "El número de clases (k) es igual a: 6.0\n",
      "La amplitud es igual a: 0.555\n"
     ]
    }
   ],
   "source": [
    "# Número de datos\n",
    "np_datos=np.array(datos)\n",
    "print('El número total de datos(n) es: '+str(len(np_datos)))\n",
    "\n",
    "# Máximos y Mínimos\n",
    "print('El dato mayor es: '+np_datos.max().astype(str))\n",
    "print('El dato menor es: '+np_datos.min().astype(str))\n",
    "\n",
    "# Rango\n",
    "rango=np_datos.max().astype(float)-np_datos.min().astype(float)\n",
    "print('El rango(R) es igual a: '+ str(round(rango,2)))\n",
    "\n",
    "# Clases\n",
    "sturges=np.histogram_bin_edges(np_datos, bins='sturges')\n",
    "a=sturges[1]-sturges[0]\n",
    "k=rango/a\n",
    "print('El número de clases (k) es igual a: '+str(round(k)))\n",
    "\n",
    "# Amplitud \n",
    "print('La amplitud es igual a: '+str(round(a,3)))"
   ]
  },
  {
   "cell_type": "markdown",
   "metadata": {},
   "source": [
    "Los intervalos son calculados mediante la función `intervalo` con los parámetros correspondientes: "
   ]
  },
  {
   "cell_type": "code",
   "execution_count": 30,
   "metadata": {},
   "outputs": [
    {
     "data": {
      "text/plain": [
       "[[7.47, 8.025],\n",
       " [8.025, 8.58],\n",
       " [8.58, 9.135],\n",
       " [9.135, 9.69],\n",
       " [9.69, 10.245],\n",
       " [10.245, 10.8]]"
      ]
     },
     "execution_count": 30,
     "metadata": {},
     "output_type": "execute_result"
    }
   ],
   "source": [
    "# Creación de los intervalos\n",
    "\"\"\"\"\"\"\n",
    "\n",
    "# Esta función recibe como parámetros (dato menor, dato mayor, amplitud) para calcular los intervalos de clase:\n",
    "def intervalo(start, stop, step):\n",
    "    i=start\n",
    "    while round(i) <= stop:\n",
    "        yield i\n",
    "        i+=step\n",
    "        yield i\n",
    "\n",
    "# Ejecución de la función \"intervalo\" y alojamiento de los resultado en una variable llamda \"l_inter\"\n",
    "l_inter=[]\n",
    "for i in intervalo(sturges.min(), sturges.max(),round(a,3)):\n",
    "    l_inter.append(round(i,3))\n",
    "\n",
    "# Construcción de una tupla para cada intervalo y creación de una lista de listas \"t_iter\" que aloja a cada una de ellas:\n",
    "t_iter=np.array([i for i in zip(l_inter[::2],l_inter[1::2])]).tolist()\n",
    "t_iter"
   ]
  },
  {
   "cell_type": "markdown",
   "metadata": {},
   "source": [
    "#### _Marcas de Clase ($x_i$), Frecuencias absolutas ($n_i$), Frecuencias absolutas acumuladas ($N_i$) y Frecuencias relativas ($F_i$)._\n",
    "\n",
    "La tabla de frecuencias es elaborada con la ayuda de **_Numpy_**.\n"
   ]
  },
  {
   "cell_type": "code",
   "execution_count": 31,
   "metadata": {},
   "outputs": [],
   "source": [
    "# Cálculo de las marcas de clase \"x\".\n",
    "\"\"\"\"\"\"\n",
    "\n",
    "# Las marcas de clase son igual al promedio, entre cada uno d los L.I. y L.S., para cada intervalo de clase. Es necesario la construcción de un arreglo \n",
    "# sobre la lista \"t_iter\" y la aplicación de la función \"np.mean()\" para calcular el promedio de cada uno de los intervalos:\n",
    "np_titer=np.array(t_iter)\n",
    "macl=[round(np.mean(x),2) for x in np_titer]\n",
    "\n",
    "# Cálculo de las frecuecias absolutas \"n\".\n",
    "\"\"\"\"\"\"\n",
    "\n",
    "# Función que realiza el conteo de los datos y asigna para cada intervalo de clase su frecuencia absoluta:\n",
    "def frecuencia(li, min, max):\n",
    "    ctr = 0\n",
    "    for x in li:\n",
    "        if min <= x <= max:\n",
    "            ctr += 1\n",
    "    return ctr\n",
    "\n",
    "# Ejecución de la función \"frecuencias\" para que pueda iterar sobre los rangos de la lista \"t_iter\". Los resultados son alojados \n",
    "# dentro de la variable \"frec_abs\":\n",
    "frec_abs=[]\n",
    "for d in t_iter:\n",
    "    frec_abs.append(frecuencia(datos, d[0], d[1]))\n",
    "    \n",
    "\n",
    "# Cálulo de la frecuencia relativa \"f\".\n",
    "\"\"\"\"\"\"\n",
    "\n",
    "# Construimos un arreglo sobre la lista \"frec_abs\" y a cada elemento lo dividimos entre el número total de datos:\n",
    "np_frec=np.array(frec_abs)\n",
    "frec_re=[(f/(len(np_datos))) for f in np_frec]\n",
    "\n",
    "\n",
    "# Cálculo de la frecuencia absoluta acumulada \"N\".\n",
    "\"\"\"\"\"\"\n",
    "\n",
    "# Pasamos como parámetro, a la función \"np.cumsum\", el arreglo \"frec_abs\":\n",
    "frec_abs_ac=list(np.cumsum(frec_abs))\n",
    "\n",
    "\n",
    "# Cálculo de la frecuencia relativa acumulada \"F\".\n",
    "\"\"\"\"\"\"\n",
    "\n",
    "# Construimos un arreglo sobre la lista \"frec_re_ac\" y a cada elemento lo dividimos entre el número total de datos:\n",
    "np_frec_ac=np.array(frec_abs_ac)\n",
    "frec_re_ac=[(f/(len(np_datos))) for f in np_frec_ac]"
   ]
  },
  {
   "cell_type": "markdown",
   "metadata": {},
   "source": [
    "Los datos son alojados en un _Dataframe_ llamado **df_frec**."
   ]
  },
  {
   "cell_type": "code",
   "execution_count": 32,
   "metadata": {},
   "outputs": [
    {
     "data": {
      "text/html": [
       "<div>\n",
       "<style scoped>\n",
       "    .dataframe tbody tr th:only-of-type {\n",
       "        vertical-align: middle;\n",
       "    }\n",
       "\n",
       "    .dataframe tbody tr th {\n",
       "        vertical-align: top;\n",
       "    }\n",
       "\n",
       "    .dataframe thead th {\n",
       "        text-align: right;\n",
       "    }\n",
       "</style>\n",
       "<table border=\"1\" class=\"dataframe\">\n",
       "  <thead>\n",
       "    <tr style=\"text-align: right;\">\n",
       "      <th></th>\n",
       "      <th>$ci$</th>\n",
       "      <th>$x_i$</th>\n",
       "      <th>$n_i$</th>\n",
       "      <th>$f_i$</th>\n",
       "      <th>$N_i$</th>\n",
       "      <th>$F_i$</th>\n",
       "    </tr>\n",
       "  </thead>\n",
       "  <tbody>\n",
       "    <tr>\n",
       "      <th>0</th>\n",
       "      <td>[7.47, 8.025]</td>\n",
       "      <td>7.75</td>\n",
       "      <td>7</td>\n",
       "      <td>0.333333</td>\n",
       "      <td>7</td>\n",
       "      <td>0.333333</td>\n",
       "    </tr>\n",
       "    <tr>\n",
       "      <th>1</th>\n",
       "      <td>[8.025, 8.58]</td>\n",
       "      <td>8.30</td>\n",
       "      <td>7</td>\n",
       "      <td>0.333333</td>\n",
       "      <td>14</td>\n",
       "      <td>0.666667</td>\n",
       "    </tr>\n",
       "    <tr>\n",
       "      <th>2</th>\n",
       "      <td>[8.58, 9.135]</td>\n",
       "      <td>8.86</td>\n",
       "      <td>2</td>\n",
       "      <td>0.095238</td>\n",
       "      <td>16</td>\n",
       "      <td>0.761905</td>\n",
       "    </tr>\n",
       "    <tr>\n",
       "      <th>3</th>\n",
       "      <td>[9.135, 9.69]</td>\n",
       "      <td>9.41</td>\n",
       "      <td>2</td>\n",
       "      <td>0.095238</td>\n",
       "      <td>18</td>\n",
       "      <td>0.857143</td>\n",
       "    </tr>\n",
       "    <tr>\n",
       "      <th>4</th>\n",
       "      <td>[9.69, 10.245]</td>\n",
       "      <td>9.97</td>\n",
       "      <td>2</td>\n",
       "      <td>0.095238</td>\n",
       "      <td>20</td>\n",
       "      <td>0.952381</td>\n",
       "    </tr>\n",
       "    <tr>\n",
       "      <th>5</th>\n",
       "      <td>[10.245, 10.8]</td>\n",
       "      <td>10.52</td>\n",
       "      <td>1</td>\n",
       "      <td>0.047619</td>\n",
       "      <td>21</td>\n",
       "      <td>1.000000</td>\n",
       "    </tr>\n",
       "  </tbody>\n",
       "</table>\n",
       "</div>"
      ],
      "text/plain": [
       "             $ci$  $x_i$  $n_i$     $f_i$  $N_i$     $F_i$\n",
       "0   [7.47, 8.025]   7.75      7  0.333333      7  0.333333\n",
       "1   [8.025, 8.58]   8.30      7  0.333333     14  0.666667\n",
       "2   [8.58, 9.135]   8.86      2  0.095238     16  0.761905\n",
       "3   [9.135, 9.69]   9.41      2  0.095238     18  0.857143\n",
       "4  [9.69, 10.245]   9.97      2  0.095238     20  0.952381\n",
       "5  [10.245, 10.8]  10.52      1  0.047619     21  1.000000"
      ]
     },
     "execution_count": 32,
     "metadata": {},
     "output_type": "execute_result"
    }
   ],
   "source": [
    "df_frec=pd.DataFrame({'$ci$':t_iter,'$x_i$':macl, '$n_i$':frec_abs, '$f_i$':frec_re, '$N_i$':frec_abs_ac, '$F_i$':frec_re_ac})\n",
    "df_frec"
   ]
  },
  {
   "cell_type": "markdown",
   "metadata": {},
   "source": [
    "### **Reprecentación gráfica de los datos**\n",
    "\n",
    "#### _Histograma, Pólígono de Frecuencias y Ojiva_"
   ]
  },
  {
   "cell_type": "code",
   "execution_count": 45,
   "metadata": {},
   "outputs": [
    {
     "data": {
      "image/png": "[encoded data removed]",
      "text/plain": [
       "<Figure size 792x720 with 4 Axes>"
      ]
     },
     "metadata": {
      "needs_background": "light"
     },
     "output_type": "display_data"
    }
   ],
   "source": [
    "fig = plt.figure(figsize=(11,10))\n",
    "\n",
    "# HISTOGRAMA:\n",
    "\"\"\"\"\"\"\n",
    "\n",
    "ax1 = fig.add_subplot(221)\n",
    "\n",
    "plt.hist(np_datos, bins=sturges, histtype='bar', edgecolor='k',alpha=.45, color='teal') \n",
    "plt.xticks(macl)\n",
    "plt.ylabel('Perímetros Basales (cm)')\n",
    "plt.xlabel('Marcas de Clase')\n",
    "plt.title('TRONCOS DE PLANTAS DE QUEBRANCHO')\n",
    "\n",
    "# POLÍGONO DE FRECUENCIAS:\n",
    "\"\"\"\"\"\"\n",
    "\n",
    "ax2 = fig.add_subplot(222)\n",
    "\n",
    "plt.plot(macl,frec_abs, color='green', marker='o', linestyle='dashed', )\n",
    "plt.xticks(macl)\n",
    "plt.ylabel('Frecuencia')\n",
    "plt.xlabel('Marcas de Clase')\n",
    "plt.hist(np_datos, bins=bins, histtype='stepfilled', edgecolor='k',alpha=0.2) \n",
    "plt.xticks(macl)\n",
    "plt.ylabel('Perímetros Basales (cm)')\n",
    "plt.xlabel('Marcas de Clase')\n",
    "plt.title('TRONCOS DE PLANTAS DE QUEBRANCHO')\n",
    "plt.legend(['poligono de frecuencias']) \n",
    "\n",
    "ax3 = fig.add_subplot(223)\n",
    "\n",
    "plt.plot(macl,frec_abs_ac, color='green', marker='o', linestyle='dashed', )\n",
    "plt.xticks(macl)\n",
    "plt.ylabel('Frecuencia')\n",
    "plt.xlabel('Marcas de Clase')\n",
    "plt.hist(np_datos, bins=bins, histtype='stepfilled', edgecolor='k',alpha=0.2) \n",
    "plt.xticks(macl)\n",
    "plt.ylabel('Perímetros Basales (cm)')\n",
    "plt.xlabel('Marcas de Clase')\n",
    "plt.title('TRONCOS DE PLANTAS DE QUEBRANCHO')\n",
    "plt.legend(['ojiva']) \n",
    "\n",
    "ax4 = fig.add_subplot(224)\n",
    "\n",
    "# QUANTILES:\n",
    "\"\"\"\"\"\"\n",
    "q=sns.boxplot(np_datos)\n",
    "plt.xticks(macl)\n",
    "plt.title('CUANTILES')\n",
    "plt.xlabel('Marcas de Clase')\n",
    "\n",
    "\n",
    "fig.tight_layout()"
   ]
  },
  {
   "cell_type": "markdown",
   "metadata": {},
   "source": [
    "### **Medidas de Dispersión**\n"
   ]
  },
  {
   "cell_type": "code",
   "execution_count": 46,
   "metadata": {},
   "outputs": [
    {
     "name": "stdout",
     "output_type": "stream",
     "text": [
      "El quartil Q1 (25%) :  7.96\n",
      "El quartil Q2 (50%) :  8.31\n",
      "El quartil Q3 (75%) :  8.63\n",
      "La varianza es igual a: 0.7713079365079367\n",
      "La desviasión estandar es ingual a: 0.8782413885190886\n",
      "El coeficiente de rrelación (Pearson) es ingual a: 1.0\n",
      "El coeficiente de variación es aigual a: 0.1033630508260991\n",
      "La Curtosis es igual a : 0.47230089361210137\n"
     ]
    }
   ],
   "source": [
    "print(\"El quartil Q1 (25%) : \", np.quantile(np_datos, .25)) \n",
    "print(\"El quartil Q2 (50%) : \", np.quantile(np_datos, .50)) \n",
    "print(\"El quartil Q3 (75%) : \", np.quantile(np_datos, .75))\n",
    "\n",
    "# Cálculos usando el módulo Scipy Statistics \"(numpy¶) functions\" en el apartado de Averages and variances:\n",
    "\"\"\"\"\"\"\n",
    "print(\"La varianza es igual a: \"+str(np.var(np_datos)))\n",
    "print(\"La desviasión estandar es ingual a: \"+str(np.std(np_datos)))\n",
    "print(\"El coeficiente de rrelación (Pearson) es ingual a: \"+str(np.corrcoef(np_datos)))\n",
    "\n",
    "\n",
    "# Cálculos usando el módulo Scipy Statistics \"(scipy.stats) functions\" en el apartado de Summary statistics:\n",
    "\"\"\"\"\"\"\n",
    "print(\"El coeficiente de variación es aigual a: \"+str(stats.variation(np_datos)))\n",
    "print(\"La Curtosis es igual a : \"+str(stats.kurtosis(np_datos)))"
   ]
  }
 ],
 "metadata": {
  "kernelspec": {
   "display_name": "Python 3",
   "language": "python",
   "name": "python3"
  },
  "language_info": {
   "codemirror_mode": {
    "name": "ipython",
    "version": 3
   },
   "file_extension": ".py",
   "mimetype": "text/x-python",
   "name": "python",
   "nbconvert_exporter": "python",
   "pygments_lexer": "ipython3",
   "version": "3.7.4"
  }
 },
 "nbformat": 4,
 "nbformat_minor": 4
}

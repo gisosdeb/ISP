{
 "cells": [
  {
   "cell_type": "code",
   "execution_count": 1,
   "metadata": {},
   "outputs": [],
   "source": [
    "import matplotlib.pyplot as plt\n",
    "import matplotlib.patches as polygon\n",
    "from matplotlib.collections import PatchCollection\n",
    "from scipy import stats\n",
    "from collections import defaultdict\n",
    "from bisect import bisect_left\n",
    "import pandas as pd\n",
    "import math\n",
    "import numpy as np\n",
    "import csv\n",
    "import seaborn as sns\n",
    "%matplotlib inline\n",
    "sns.set(style=\"darkgrid\")"
   ]
  },
  {
   "cell_type": "code",
   "execution_count": 2,
   "metadata": {},
   "outputs": [
    {
     "name": "stdout",
     "output_type": "stream",
     "text": [
      "los datos, ordenados, son los siguientes [ 7.47  7.5   7.52  7.54  7.83  7.96  7.96  8.12  8.16  8.28  8.31  8.36\n",
      "  8.42  8.5   8.62  8.63  9.2   9.32  9.77 10.16 10.8 ] "
     ]
    }
   ],
   "source": [
    "# Carga de los datos mediante la lectura del archivo fuente.txt:\n",
    "\n",
    "listas = []\n",
    "datos=[]\n",
    "\n",
    "with open('ejemplo.txt', newline='') as archivo:\n",
    "    for linea in csv.reader(archivo):\n",
    "        listas.append(linea)\n",
    "\n",
    "# Adisión de cada uno de los datos al objeto arreglo:\n",
    "\n",
    "for lista in listas:\n",
    "    for elemento in lista:\n",
    "        datos.append(float(elemento))\n",
    "        np_datos=np.sort(np.array(datos))\n",
    "\n",
    "print('los datos, ordenados, son los siguientes '+ str(np.sort(np_datos)), end=' ')"
   ]
  },
  {
   "cell_type": "code",
   "execution_count": 31,
   "metadata": {},
   "outputs": [
    {
     "name": "stdout",
     "output_type": "stream",
     "text": [
      "[ 7.47  7.5   7.52  7.54  7.83  7.96  7.96  8.12  8.16  8.28  8.31  8.36\n",
      "  8.42  8.5   8.62  8.63  9.2   9.32  9.77 10.16 10.8 ]\n",
      "21\n",
      "4.58257569495584\n",
      "<class 'numpy.float64'>\n",
      "4\n",
      "bin_edges :[ 7.47   8.136  8.802  9.468 10.134 10.8  ]\n"
     ]
    }
   ],
   "source": [
    "print(np_datos)\n",
    "print(len(np_datos))\n",
    "print(str(np.sqrt(len(np_datos))))\n",
    "print(type(np.sqrt(len(np_datos))))\n",
    "print(str(int(np.sqrt(len(np_datos)))))\n",
    "print('bin_edges :'+str(np.histogram_bin_edges(np_datos, bins=5)))"
   ]
  },
  {
   "cell_type": "code",
   "execution_count": 4,
   "metadata": {},
   "outputs": [
    {
     "name": "stdout",
     "output_type": "stream",
     "text": [
      "con raíz cuadrada de n en np.histogram :(array([8, 8, 2, 1, 2]), array([ 7.47 ,  8.136,  8.802,  9.468, 10.134, 10.8  ]))\n",
      "con raíz cuadrada de n en np.histogram_bin_edges :[ 7.47   8.136  8.802  9.468 10.134 10.8  ]\n",
      "con sturges en np.histogram :(array([7, 7, 2, 2, 2, 1]), array([ 7.47 ,  8.025,  8.58 ,  9.135,  9.69 , 10.245, 10.8  ]))\n",
      "con sturges en np.histogram_bin_edges :(array([7, 7, 2, 2, 2, 1]), array([ 7.47 ,  8.025,  8.58 ,  9.135,  9.69 , 10.245, 10.8  ]))\n"
     ]
    }
   ],
   "source": [
    "# print('con 5 clases definidas en np.histogram :'+str(np.histogram(np_datos,bins=5)))\n",
    "# print('con 5 clases definidas en np.hstogram_bin_edges :'+str(np.histogram_bin_edges(np_datos,bins=5)))\n",
    "print('con raíz cuadrada de n en np.histogram :'+str(np.histogram(np_datos,bins='sqrt')))\n",
    "print('con raíz cuadrada de n en np.histogram_bin_edges :'+str(np.histogram_bin_edges(np_datos,bins='sqrt')))\n",
    "print('con sturges en np.histogram :'+str(np.histogram(np_datos,bins='sturges')))\n",
    "print('con sturges en np.histogram_bin_edges :'+str(np.histogram(np_datos,bins='sturges')))"
   ]
  },
  {
   "cell_type": "code",
   "execution_count": 73,
   "metadata": {},
   "outputs": [
    {
     "data": {
      "image/png": "[encoded data removed]",
      "text/plain": [
       "<Figure size 432x288 with 1 Axes>"
      ]
     },
     "metadata": {},
     "output_type": "display_data"
    }
   ],
   "source": [
    "bins=np.histogram_bin_edges(np_datos,bins=5)\n",
    "_=plt.hist(np_datos, bins='sturges')\n",
    "_=plt.xticks(bins)\n",
    "plt.show()"
   ]
  }
 ],
 "metadata": {
  "kernelspec": {
   "display_name": "Python 3",
   "language": "python",
   "name": "python3"
  },
  "language_info": {
   "codemirror_mode": {
    "name": "ipython",
    "version": 3
   },
   "file_extension": ".py",
   "mimetype": "text/x-python",
   "name": "python",
   "nbconvert_exporter": "python",
   "pygments_lexer": "ipython3",
   "version": "3.7.4"
  }
 },
 "nbformat": 4,
 "nbformat_minor": 4
}

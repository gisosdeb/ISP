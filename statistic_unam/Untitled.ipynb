{
 "cells": [
  {
   "cell_type": "markdown",
   "metadata": {},
   "source": [
    "### Construcción de tabla de distribución de frecuencias. \n",
    "\n",
    "Antes de comenzar es necesario ordenar los datos de menor a mayor.\n",
    "\n",
    "1. Cálculo del rango. \n",
    "    - `valor máximo - valor mínimo` (para que haya congruencia se recomienda que el rango contenga el mismo número de decimales que los datos de irigen).\n",
    "    \n",
    "\n",
    "2. Determinar el número de intervalos de clase.\n",
    "    - Significa en cuántas categorías o subgrupos se clasificaran o agruparan los datos. Para determinar el número óptimo de intervalos de clase, se puede utilizar estas dos formas:\n",
    "    \n",
    "      * Aplicar la formula $\\sqrt{n}$. Donde **_\"n\"_** es el número total de datos.\n",
    "      * Aplicar la regla de **_Satrunges_**. Para **_\"n\"_** igual al número total de datos: `1 + (3.322(log n))`.\n",
    "      \n",
    "\n",
    "3. Cálculo de la Amplitud. \n",
    "    - Ahora se procede a calcular el ancho de los intervalos de clase; es decir, la dimensión que tendrá cada uno de los intervalos que se determinó en el paso anterior. El número de intervalos tiene que ser un número entero y como convención, la **_Amplitud_**, deberá tener el mismo número de decimales que se manejan en los datos originales.\n",
    "     * `Amplitud = Rango/No.Intervalos de Clase`\n",
    "     \n",
    "       * `No. de Intervalos de clase * Amplitud > Rango`\n",
    "       * `No. de Intervalos de clase * Amplitud - Rango` $\\leq$ `Amplitud`\n",
    "\n",
    "\n",
    "Sugerencia: sea **n** número de datos y **$\\kappa$** número de clases:\n",
    "\n",
    "| n | $\\kappa$ |\n",
    "| --- | --- |\n",
    "| MENOS DE 50 | 5 - 7 |\n",
    "| ENTRE 50 A 100| 6 - 10|\n",
    "| ENTRE 100 A 250 | 7 - 12|\n",
    "| MÁS DE 250 | 10 A 20|\n",
    "\n",
    "4. Obtener los límites de Clase. \n",
    "    - Los límites de clases definen el ancho de cada intervalo; es decir, en que número inicia nuestro intervalo inferior _**(L.I.C)**_ y hasta donde llega _**(L.S.C)**_.\n",
    "    \n",
    "      * El `valor mínimo` siempre será el primer límite inferior de la tabla.\n",
    "      * La distancia  entre el primer  intervalo y el segundo, será siempre igual a la amplitud, y asi sucesivamente.\n",
    "      * Para establecer los límites superiores de clase, se recomienda seguirla siguiente tabla:\n",
    "      \n",
    "|N° de decimales de los datos originales| L.S.C|\n",
    "-|-|\n",
    "|0 decimales (enteros)|Restar 1 al L.I.C inmediato posterior|\n",
    "|1 decimal|Restar .1 al L.I.C inmediato posterior|\n",
    "|2 decimales|Restar .01 al L.I.C inmediato  posterior |\n",
    "\n",
    "      "
   ]
  },
  {
   "cell_type": "code",
   "execution_count": null,
   "metadata": {},
   "outputs": [],
   "source": []
  }
 ],
 "metadata": {
  "kernelspec": {
   "display_name": "Python 3",
   "language": "python",
   "name": "python3"
  },
  "language_info": {
   "codemirror_mode": {
    "name": "ipython",
    "version": 3
   },
   "file_extension": ".py",
   "mimetype": "text/x-python",
   "name": "python",
   "nbconvert_exporter": "python",
   "pygments_lexer": "ipython3",
   "version": "3.7.4"
  }
 },
 "nbformat": 4,
 "nbformat_minor": 4
}

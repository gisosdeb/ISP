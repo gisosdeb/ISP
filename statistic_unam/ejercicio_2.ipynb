{
 "cells": [
  {
   "cell_type": "markdown",
   "metadata": {},
   "source": [
    "# _Ejercicio 2_\n",
    "____"
   ]
  },
  {
   "cell_type": "markdown",
   "metadata": {},
   "source": [
    "<img src=\"datos_presa.png\" width=\"1000\" height=\"400\">"
   ]
  },
  {
   "cell_type": "markdown",
   "metadata": {},
   "source": [
    "A continuación se describe, paso a paso, la construcción de una tabla de frecuencias, la realización de una gráfica de barras a partir del histograma de los datos, ojiva y polígono de frecuencias mediante las librerías **_PANDAS_, _Numpy_ y _matplolib_** en python. Todo esto partiendo desde un archivo **.txt** con datos y utilizando el método de **_Sturges_** para el cálculo de las _**clases $(k)$**_."
   ]
  },
  {
   "cell_type": "code",
   "execution_count": 1,
   "metadata": {},
   "outputs": [],
   "source": [
    "# Importación de las librerías:\n",
    "\n",
    "import matplotlib.pyplot as plt\n",
    "import matplotlib.patches as polygon\n",
    "from matplotlib.collections import PatchCollection\n",
    "from scipy import stats\n",
    "from collections import defaultdict\n",
    "from bisect import bisect_left\n",
    "import pandas as pd\n",
    "import math\n",
    "import numpy as np\n",
    "import csv\n",
    "import seaborn as sns\n",
    "%matplotlib inline\n",
    "sns.set(style=\"darkgrid\")"
   ]
  },
  {
   "cell_type": "markdown",
   "metadata": {},
   "source": [
    "### **Construcción de la tabla de fecuencias**"
   ]
  },
  {
   "cell_type": "markdown",
   "metadata": {},
   "source": [
    "Los datos son previamente almacenados en una rchivo **.txt** sin ningún orden en especial o tipo de arreglo. Para este ejemplo, dicho archivo es llamado **ejercicio_2.txt**.\n",
    "\n",
    "Para ello necesitaremos la creación de dos objetos, de tipo _listas_, para la extracción de los datos y visualización. Las llamaremos `listas` y `datos`. Posteriormente se iterará en un _loop_ para su presentación, pero antes es necesario crear un tercer objeto, de tipo arreglo, que nos permitirá reailzar los cálculos pertinentes sobre cada dato. Lo llamaremos `np_datos`:\n",
    "\n",
    "#### _Medidas de posición: núumero total de datos ($N$), máximos, mínimos y rango._\n",
    "\n",
    "Todas las medidas de posición son calculadas utilizando el objeto `np_datos` y las funciones pertinentes de **_Numpy_**:"
   ]
  },
  {
   "cell_type": "code",
   "execution_count": 10,
   "metadata": {},
   "outputs": [
    {
     "name": "stdout",
     "output_type": "stream",
     "text": [
      "los datos, ordenados, son los siguientes [40.3 40.3 40.4 40.4 40.5 40.5 41.2 41.2 42.4 42.4 42.8 42.8 42.9 42.9\n",
      " 43.1 43.1 43.2 43.2 43.2 43.2 43.3 43.3 43.4 43.4 44.6 44.6 45.1 45.1\n",
      " 45.5 45.6 46.2 46.2 46.4 46.4 46.6 46.6 46.6 46.6 46.6 46.9 46.9 47.5\n",
      " 47.5 47.7 47.7 47.8 48.1 48.1 48.4 48.4 48.4 48.4 48.6 48.6 48.8 48.8\n",
      " 49.1 49.1 49.2 49.2 49.3 49.3 49.3 49.3 49.7 49.7 49.8 49.8 50.1 50.1\n",
      " 50.2 50.2 50.2 50.2 50.2 50.2 50.9 50.9 51.1 51.1 51.2 51.2 51.2 51.2\n",
      " 51.4 51.6 51.6 51.8 51.8 52.4 52.4 52.8 52.8 52.8 52.8 52.8 52.8 52.9\n",
      " 52.9 53.6 53.6 53.6 53.6 53.6 53.6 53.7 53.7 53.8 53.8 54.5 54.5 54.7\n",
      " 54.7 54.8 54.8 55.2 55.2 55.5 55.5 55.8 55.8 56.3 56.3 56.8 56.8 58.4\n",
      " 58.4 59.3 59.3 59.6 59.6 60.9 60.9] "
     ]
    }
   ],
   "source": [
    "# Carga de los datos mediante la lectura del archivo fuente.txt:\n",
    "\n",
    "listas = []\n",
    "datos=[]\n",
    "\n",
    "with open('data_ejercicio_2.txt', newline='') as archivo:\n",
    "    for linea in csv.reader(archivo):\n",
    "        listas.append(linea)\n",
    "\n",
    "# Adisión de cada uno de los datos al objeto arreglo:\n",
    "\n",
    "for lista in listas:\n",
    "    for elemento in lista:\n",
    "        datos.append(float(elemento))\n",
    "        np_datos=np.sort(np.array(datos))\n",
    "\n",
    "print('los datos, ordenados, son los siguientes '+ str(np.sort(np_datos)), end=' ')"
   ]
  },
  {
   "cell_type": "code",
   "execution_count": 11,
   "metadata": {},
   "outputs": [
    {
     "name": "stdout",
     "output_type": "stream",
     "text": [
      "El número total de datos(n) es: 133\n",
      "El dato mayor es: 60.9\n",
      "El dato menor es: 40.3\n",
      "El rango(R) es igual a: 20.6\n"
     ]
    }
   ],
   "source": [
    "# Número de datos\n",
    "np_datos=np.array(datos)\n",
    "print('El número total de datos(n) es: '+str(len(np_datos)))\n",
    "\n",
    "# Máximos y Mínimos\n",
    "print('El dato mayor es: '+np_datos.max().astype(str))\n",
    "print('El dato menor es: '+np_datos.min().astype(str))\n",
    "\n",
    "# Rango\n",
    "rango=np_datos.max().astype(float)-np_datos.min().astype(float)\n",
    "print('El rango(R) es igual a: '+ str(rango))"
   ]
  },
  {
   "cell_type": "markdown",
   "metadata": {},
   "source": [
    "#### _Número de clases ($k$), amplitud ($A$) y medidas de tendencia central; media, mediana y moda_\n",
    "\n",
    "Posteriormente realizamos calculamos las medidas de tendencia central `media`, `mediana` y `moda` para los datos no agrupados. Todas las medidas de tendencia central son calculadas utilizando el objeto `np_datos` y las funciones pertinentes de **_Numpy_**:"
   ]
  },
  {
   "cell_type": "code",
   "execution_count": 4,
   "metadata": {},
   "outputs": [
    {
     "name": "stdout",
     "output_type": "stream",
     "text": [
      "El número total de datos(n) es: 133\n",
      "la media es igual a: 49.68\n",
      "la mediana es igual a: 49.8\n",
      "la moda es igual a: ModeResult(mode=array([50.2]), count=array([6]))\n"
     ]
    }
   ],
   "source": [
    "# media \n",
    "print('la media es igual a: '+ str(round(np.mean(np_datos),3)))\n",
    "\n",
    "# mediana\n",
    "print('la mediana es igual a: '+ str(round(np.median(np_datos),3)))\n",
    "\n",
    "# moda\n",
    "print('la moda es igual a: '+ str(stats.mode(np_datos)))"
   ]
  },
  {
   "cell_type": "markdown",
   "metadata": {},
   "source": [
    "Los datos para la amplitud _($A$)_ y para el número de clases _($k$)_ son calculados bajo la función `inter_clases` con los parámetros correspondientes: "
   ]
  },
  {
   "cell_type": "code",
   "execution_count": 15,
   "metadata": {
    "scrolled": true
   },
   "outputs": [
    {
     "name": "stdout",
     "output_type": "stream",
     "text": [
      "Aplicando Sturges [1 + 3.322 (log(n))]: \n",
      "       (K) es igual a \"8.06\". El número aproximado de intervalos sería de 8,\n",
      "       pero 8 es un número par. Por convención necesitamos tomar la cifra siguiete, que sea mayor e impar. O sea el número de lcases (K) es igual a: 9.\n",
      "       Y la amplitud (A) es igual a (R/K). Por lo tanto (A) es igual a: 2.0\n"
     ]
    }
   ],
   "source": [
    "# Amplitud y número de intervalos de clase utilizando el operador módulo para la verificación de cantidades pares o impares. \n",
    "\"\"\"\"\"\"\n",
    "\n",
    "# Omitase esta función si el número de intervalos de clase es proporcionado. Calculese la amplitud (A) de manera directa mediante (R/k) y\n",
    "# coloquese, en lugar del parámetro \"rests\", en la función \"intervalo\" que está en el siguiente bloque de este script.\n",
    "\n",
    "# Esta fucnión calcula el número de intervalo de clases:\n",
    "\n",
    "def inter_clases(k):\n",
    "    print('Aplicando Sturges [1 + 3.322 (log(n))]: \\n'\n",
    "          '       (K) es igual a ' +'\"'+str(round(k,2))+'\"'+'. El número aproximado de intervalos sería de ' +str(round(k))+',')\n",
    "    \n",
    "    # Confirmación de números pares mediante el módulo de un número:\n",
    "    if round(k)%2==0:\n",
    "        print('       pero '+str(round(k))+ ' es un número par. Por convención necesitamos tomar la cifra siguiete, que sea mayor e impar. O sea el número de lcases (K) es igual a: '+str(round(k+1))+'.\\n'\n",
    "         '       Y la amplitud (A) es igual a (R/K). Por lo tanto (A) es igual a: '+str(round(rango/round(k+1))))\n",
    "        return round(rango/round(k+1))\n",
    "       \n",
    "    else:\n",
    "        print('       y '+str(round(k)) + ' es un número impar. Por convención tomamos este número como cantidad de intervalos. Entonces el número de lcases, (K), es igual a: '+str(round(k))+'.\\n'\n",
    "              '       Y la amplitud (A) es igual a (R/(K)). Por lo tanto (A) es igual a: '+str(round(rango/(round(k)))))\n",
    "        return round(rango/(round(k)))\n",
    "\n",
    "# Ejecución de la función \"inter_clases\" para obtener el número de clases (k) y la amplitud (A) en una variable llamada \"rests\". \n",
    "rests=inter_clases(1+(3.322*(math.log10(len(np_datos)))))"
   ]
  },
  {
   "cell_type": "markdown",
   "metadata": {},
   "source": [
    "Los intervalos son calculados mediante la función `intervalo` con los parámetros correspondientes: "
   ]
  },
  {
   "cell_type": "code",
   "execution_count": 16,
   "metadata": {},
   "outputs": [
    {
     "data": {
      "text/plain": [
       "[[40.3, 42.3],\n",
       " [42.3, 44.3],\n",
       " [44.3, 46.3],\n",
       " [46.3, 48.3],\n",
       " [48.3, 50.3],\n",
       " [50.3, 52.3],\n",
       " [52.3, 54.3],\n",
       " [54.3, 56.3],\n",
       " [56.3, 58.3],\n",
       " [58.3, 60.3],\n",
       " [60.3, 62.3]]"
      ]
     },
     "execution_count": 16,
     "metadata": {},
     "output_type": "execute_result"
    }
   ],
   "source": [
    "# Creación de los intervalos\n",
    "\"\"\"\"\"\"\n",
    "\n",
    "# Esta función recibe como parámetros (dato menor, dato mayor, amplitud) para calcular los intervalos de clase:\n",
    "def intervalo(start, stop, step):\n",
    "    i=start\n",
    "    while i <= stop:\n",
    "        yield i\n",
    "        i+=step\n",
    "        yield i\n",
    "\n",
    "# Ejecución de la función \"intervalo\" y alojamiento de los resultado en una variable llamda \"l_inter\"\n",
    "l_inter=[]\n",
    "for i in intervalo(np_datos.min(), np_datos.max(),rests):\n",
    "    l_inter.append(i)\n",
    "\n",
    "# Construcción de una tupla para cada intervalo y creación de una lista de listas \"t_iter\" que aloja a cada una de ellas:\n",
    "t_iter=np.array([i for i in zip(l_inter[::2],l_inter[1::2])]).tolist()\n",
    "t_iter"
   ]
  },
  {
   "cell_type": "markdown",
   "metadata": {},
   "source": [
    "#### _Marcas de Clase ($x_i$), Frecuencias absolutas ($n_i$), Frecuencias absolutas acumuladas ($N_i$) y Frecuencias relativas ($F_i$)._\n",
    "\n",
    "La tabla de frecuencias es elaborada con la ayuda de **_Numpy_**.\n"
   ]
  },
  {
   "cell_type": "code",
   "execution_count": 19,
   "metadata": {},
   "outputs": [],
   "source": [
    "# Cálculo de las marcas de clase \"x\".\n",
    "\"\"\"\"\"\"\n",
    "\n",
    "# Las marcas de clase son igual al promedio, entre cada uno d los L.I. y L.S., para cada intervalo de clase. Es necesario la construcción de un arreglo \n",
    "# sobre la lista \"t_iter\" y la aplicación de la función \"np.mean()\" para calcular el promedio de cada uno de los intervalos:\n",
    "np_titer=np.array(t_iter)\n",
    "macl=[np.mean(x) for x in np_titer]\n",
    "\n",
    "# Cálculo de las frecuecias absolutas \"n\".\n",
    "\"\"\"\"\"\"\n",
    "\n",
    "# Función que realiza el conteo de los datos y asigna para cada intervalo de clase su frecuencia absoluta:\n",
    "def frecuencia(li, min, max):\n",
    "    ctr = 0\n",
    "    for x in li:\n",
    "        if min <= x < max:\n",
    "            ctr += 1\n",
    "    return ctr\n",
    "\n",
    "# Ejecución de la función \"frecuencias\" para que pueda iterar sobre los rangos de la lista \"t_iter\". Los resultados son alojados \n",
    "# dentro de la variable \"frec_abs\":\n",
    "frec_abs=[]\n",
    "for d in t_iter:\n",
    "    frec_abs.append(frecuencia(datos, d[0], d[1]))\n",
    "    \n",
    "\n",
    "# Cálulo de la frecuencia relativa \"f\".\n",
    "\"\"\"\"\"\"\n",
    "\n",
    "# Construimos un arreglo sobre la lista \"frec_abs\" y a cada elemento lo dividimos entre el número total de datos:\n",
    "np_frec=np.array(frec_abs)\n",
    "frec_re=[(f/(len(np_datos))) for f in np_frec]\n",
    "\n",
    "\n",
    "# Cálculo de la frecuencia absoluta acumulada \"N\".\n",
    "\"\"\"\"\"\"\n",
    "\n",
    "# Pasamos como parámetro, a la función \"np.cumsum\", el arreglo \"frec_abs\":\n",
    "frec_abs_ac=list(np.cumsum(frec_abs))\n",
    "\n",
    "\n",
    "# Cálculo de la frecuencia relativa acumulada \"F\".\n",
    "\"\"\"\"\"\"\n",
    "\n",
    "# Construimos un arreglo sobre la lista \"frec_re_ac\" y a cada elemento lo dividimos entre el número total de datos:\n",
    "np_frec_ac=np.array(frec_abs_ac)\n",
    "frec_re_ac=[(f/(len(np_datos))) for f in np_frec_ac]"
   ]
  },
  {
   "cell_type": "markdown",
   "metadata": {},
   "source": [
    "Los datos son alojados en un _Dataframe_ llamado **df_frec**."
   ]
  },
  {
   "cell_type": "code",
   "execution_count": 20,
   "metadata": {},
   "outputs": [
    {
     "data": {
      "text/html": [
       "<div>\n",
       "<style scoped>\n",
       "    .dataframe tbody tr th:only-of-type {\n",
       "        vertical-align: middle;\n",
       "    }\n",
       "\n",
       "    .dataframe tbody tr th {\n",
       "        vertical-align: top;\n",
       "    }\n",
       "\n",
       "    .dataframe thead th {\n",
       "        text-align: right;\n",
       "    }\n",
       "</style>\n",
       "<table border=\"1\" class=\"dataframe\">\n",
       "  <thead>\n",
       "    <tr style=\"text-align: right;\">\n",
       "      <th></th>\n",
       "      <th>$ci$</th>\n",
       "      <th>$x_i$</th>\n",
       "      <th>$n_i$</th>\n",
       "      <th>$f_i$</th>\n",
       "      <th>$N_i$</th>\n",
       "      <th>$F_i$</th>\n",
       "    </tr>\n",
       "  </thead>\n",
       "  <tbody>\n",
       "    <tr>\n",
       "      <td>0</td>\n",
       "      <td>[40.3, 42.3]</td>\n",
       "      <td>41.3</td>\n",
       "      <td>8</td>\n",
       "      <td>0.060150</td>\n",
       "      <td>8</td>\n",
       "      <td>0.060150</td>\n",
       "    </tr>\n",
       "    <tr>\n",
       "      <td>1</td>\n",
       "      <td>[42.3, 44.3]</td>\n",
       "      <td>43.3</td>\n",
       "      <td>16</td>\n",
       "      <td>0.120301</td>\n",
       "      <td>24</td>\n",
       "      <td>0.180451</td>\n",
       "    </tr>\n",
       "    <tr>\n",
       "      <td>2</td>\n",
       "      <td>[44.3, 46.3]</td>\n",
       "      <td>45.3</td>\n",
       "      <td>8</td>\n",
       "      <td>0.060150</td>\n",
       "      <td>32</td>\n",
       "      <td>0.240602</td>\n",
       "    </tr>\n",
       "    <tr>\n",
       "      <td>3</td>\n",
       "      <td>[46.3, 48.3]</td>\n",
       "      <td>47.3</td>\n",
       "      <td>16</td>\n",
       "      <td>0.120301</td>\n",
       "      <td>48</td>\n",
       "      <td>0.360902</td>\n",
       "    </tr>\n",
       "    <tr>\n",
       "      <td>4</td>\n",
       "      <td>[48.3, 50.3]</td>\n",
       "      <td>49.3</td>\n",
       "      <td>28</td>\n",
       "      <td>0.210526</td>\n",
       "      <td>76</td>\n",
       "      <td>0.571429</td>\n",
       "    </tr>\n",
       "    <tr>\n",
       "      <td>5</td>\n",
       "      <td>[50.3, 52.3]</td>\n",
       "      <td>51.3</td>\n",
       "      <td>13</td>\n",
       "      <td>0.097744</td>\n",
       "      <td>89</td>\n",
       "      <td>0.669173</td>\n",
       "    </tr>\n",
       "    <tr>\n",
       "      <td>6</td>\n",
       "      <td>[52.3, 54.3]</td>\n",
       "      <td>53.3</td>\n",
       "      <td>20</td>\n",
       "      <td>0.150376</td>\n",
       "      <td>109</td>\n",
       "      <td>0.819549</td>\n",
       "    </tr>\n",
       "    <tr>\n",
       "      <td>7</td>\n",
       "      <td>[54.3, 56.3]</td>\n",
       "      <td>55.3</td>\n",
       "      <td>12</td>\n",
       "      <td>0.090226</td>\n",
       "      <td>121</td>\n",
       "      <td>0.909774</td>\n",
       "    </tr>\n",
       "    <tr>\n",
       "      <td>8</td>\n",
       "      <td>[56.3, 58.3]</td>\n",
       "      <td>57.3</td>\n",
       "      <td>4</td>\n",
       "      <td>0.030075</td>\n",
       "      <td>125</td>\n",
       "      <td>0.939850</td>\n",
       "    </tr>\n",
       "    <tr>\n",
       "      <td>9</td>\n",
       "      <td>[58.3, 60.3]</td>\n",
       "      <td>59.3</td>\n",
       "      <td>6</td>\n",
       "      <td>0.045113</td>\n",
       "      <td>131</td>\n",
       "      <td>0.984962</td>\n",
       "    </tr>\n",
       "    <tr>\n",
       "      <td>10</td>\n",
       "      <td>[60.3, 62.3]</td>\n",
       "      <td>61.3</td>\n",
       "      <td>2</td>\n",
       "      <td>0.015038</td>\n",
       "      <td>133</td>\n",
       "      <td>1.000000</td>\n",
       "    </tr>\n",
       "  </tbody>\n",
       "</table>\n",
       "</div>"
      ],
      "text/plain": [
       "            $ci$  $x_i$  $n_i$     $f_i$  $N_i$     $F_i$\n",
       "0   [40.3, 42.3]   41.3      8  0.060150      8  0.060150\n",
       "1   [42.3, 44.3]   43.3     16  0.120301     24  0.180451\n",
       "2   [44.3, 46.3]   45.3      8  0.060150     32  0.240602\n",
       "3   [46.3, 48.3]   47.3     16  0.120301     48  0.360902\n",
       "4   [48.3, 50.3]   49.3     28  0.210526     76  0.571429\n",
       "5   [50.3, 52.3]   51.3     13  0.097744     89  0.669173\n",
       "6   [52.3, 54.3]   53.3     20  0.150376    109  0.819549\n",
       "7   [54.3, 56.3]   55.3     12  0.090226    121  0.909774\n",
       "8   [56.3, 58.3]   57.3      4  0.030075    125  0.939850\n",
       "9   [58.3, 60.3]   59.3      6  0.045113    131  0.984962\n",
       "10  [60.3, 62.3]   61.3      2  0.015038    133  1.000000"
      ]
     },
     "execution_count": 20,
     "metadata": {},
     "output_type": "execute_result"
    }
   ],
   "source": [
    "df_frec=pd.DataFrame({'$ci$':t_iter,'$x_i$':macl, '$n_i$':frec_abs, '$f_i$':frec_re, '$N_i$':frec_abs_ac, '$F_i$':frec_re_ac})\n",
    "df_frec"
   ]
  },
  {
   "cell_type": "markdown",
   "metadata": {},
   "source": [
    "### **Reprecentación gráfica de los datos**\n",
    "\n",
    "#### _Histograma, Pólígono de Frecuencias y Ojiva_"
   ]
  },
  {
   "cell_type": "code",
   "execution_count": 21,
   "metadata": {},
   "outputs": [
    {
     "data": {
      "image/png": "[encoded data removed]",
      "text/plain": [
       "<Figure size 792x720 with 4 Axes>"
      ]
     },
     "metadata": {
      "needs_background": "light"
     },
     "output_type": "display_data"
    }
   ],
   "source": [
    "fig = plt.figure(figsize=(11,10))\n",
    "\n",
    "# HISTOGRAMA:\n",
    "\"\"\"\"\"\"\n",
    "\n",
    "ax1 = fig.add_subplot(221)\n",
    "\n",
    "def intervalo(start, stop, step):\n",
    "    i=start\n",
    "    while i <= stop:\n",
    "        i+=step\n",
    "        yield i\n",
    "\n",
    "# Ejecución de la función \"intervalo\" y alojamiento de los resultado en una variable llamda \"l_inter\"\n",
    "l_inter=[]\n",
    "for i in intervalo(np_datos.min(), np_datos.max(),rests):\n",
    "    l_inter.append(i)\n",
    "\n",
    "# Construimos los \"bins\" (marcas de clase) del histograma. Para ello es necesario agregar el dato menor y las marcas de clase en una sola lista de nombre \"bins\"\n",
    "# para que la función hist(), de matplotlib, pueda tomar como parámetro \"bins\" a estos datos.\n",
    "\n",
    "b1=[np_datos.min().tolist()]\n",
    "b2=[float(b) for b in l_inter]\n",
    "bins=b1+b2\n",
    "\n",
    "plt.hist(np_datos, bins=bins, histtype='bar', edgecolor='k',alpha=.45, color='teal') \n",
    "plt.xticks(macl)\n",
    "plt.ylabel('Perímetros Basales (cm)')\n",
    "plt.xlabel('Marcas de Clase')\n",
    "plt.title('TRONCOS DE PLANTAS DE QUEBRANCHO')\n",
    "\n",
    "# POLÍGONO DE FRECUENCIAS:\n",
    "\"\"\"\"\"\"\n",
    "\n",
    "ax2 = fig.add_subplot(222)\n",
    "\n",
    "plt.plot(macl,frec_abs, color='green', marker='o', linestyle='dashed', )\n",
    "plt.xticks(macl)\n",
    "plt.ylabel('Frecuencia')\n",
    "plt.xlabel('Marcas de Clase')\n",
    "plt.hist(np_datos, bins=bins, histtype='stepfilled', edgecolor='k',alpha=0.2) \n",
    "plt.xticks(macl)\n",
    "plt.ylabel('Perímetros Basales (cm)')\n",
    "plt.xlabel('Marcas de Clase')\n",
    "plt.title('TRONCOS DE PLANTAS DE QUEBRANCHO')\n",
    "plt.legend(['poligono de frecuencias']) \n",
    "\n",
    "ax3 = fig.add_subplot(223)\n",
    "\n",
    "plt.plot(macl,frec_abs_ac, color='green', marker='o', linestyle='dashed', )\n",
    "plt.xticks(macl)\n",
    "plt.ylabel('Frecuencia')\n",
    "plt.xlabel('Marcas de Clase')\n",
    "plt.hist(np_datos, bins=bins, histtype='stepfilled', edgecolor='k',alpha=0.2) \n",
    "plt.xticks(macl)\n",
    "plt.ylabel('Perímetros Basales (cm)')\n",
    "plt.xlabel('Marcas de Clase')\n",
    "plt.title('TRONCOS DE PLANTAS DE QUEBRANCHO')\n",
    "plt.legend(['ojiva']) \n",
    "\n",
    "ax4 = fig.add_subplot(224)\n",
    "\n",
    "# QUANTILES:\n",
    "\"\"\"\"\"\"\n",
    "q=sns.boxplot(np_datos)\n",
    "plt.xticks(macl)\n",
    "plt.title('CUANTILES')\n",
    "plt.xlabel('Marcas de Clase')\n",
    "\n",
    "\n",
    "fig.tight_layout()"
   ]
  },
  {
   "cell_type": "code",
   "execution_count": null,
   "metadata": {},
   "outputs": [],
   "source": [
    "print(\"El quartil Q1 (25%) : \", np.quantile(np_datos, .25)) \n",
    "print(\"El quartil Q2 (50%) : \", np.quantile(np_datos, .50)) \n",
    "print(\"El quartil Q3 (75%) : \", np.quantile(np_datos, .75)) \n",
    "print(\"El coeficiente de rrelación es ingual a: \"+str(np.corrcoef(np_datos)))\n",
    "print(\"La desviasión estandar es ingual a: \"+str(np.std(np_datos)))"
   ]
  }
 ],
 "metadata": {
  "kernelspec": {
   "display_name": "Python 3",
   "language": "python",
   "name": "python3"
  },
  "language_info": {
   "codemirror_mode": {
    "name": "ipython",
    "version": 3
   },
   "file_extension": ".py",
   "mimetype": "text/x-python",
   "name": "python",
   "nbconvert_exporter": "python",
   "pygments_lexer": "ipython3",
   "version": "3.7.3"
  }
 },
 "nbformat": 4,
 "nbformat_minor": 4
}

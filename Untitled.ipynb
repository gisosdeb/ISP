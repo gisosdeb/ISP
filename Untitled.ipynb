{
 "cells": [
  {
   "cell_type": "code",
   "execution_count": 1,
   "metadata": {},
   "outputs": [],
   "source": [
    "import pandas as pd\n",
    "import math\n",
    "import numpy as np\n",
    "import csv"
   ]
  },
  {
   "cell_type": "code",
   "execution_count": null,
   "metadata": {},
   "outputs": [],
   "source": [
    "# Importamos los datos de un archivo de texto en forma de una matriz cuadrada:\n",
    "\n",
    "datos=np.loadtxt('table.txt', delimiter=',', dtype=int)\n",
    "datos"
   ]
  },
  {
   "cell_type": "code",
   "execution_count": 2,
   "metadata": {},
   "outputs": [
    {
     "name": "stdout",
     "output_type": "stream",
     "text": [
      "[96.0, 171.0, 202.0, 178.0, 147.0, 157.0, 185.0, 90.0, 116.0, 172.0, 141.0, 149.0, 206.0, 175.0, 123.0, 95.0, 163.0, 150.0, 154.0, 130.0, 108.0, 119.0, 183.0, 151.0, 114.0] "
     ]
    }
   ],
   "source": [
    "# importación de los datos de un archivo de texto sin ningún orden:\n",
    "\n",
    "listas = []\n",
    "datos=[]\n",
    "\n",
    "with open('table.txt', newline='') as archivo:\n",
    "    for linea in csv.reader(archivo):\n",
    "        listas.append(linea)\n",
    "        \n",
    "for lista in listas:\n",
    "    for elemento in lista:\n",
    "        datos.append(float(elemento))\n",
    "print(datos, end=' ')"
   ]
  },
  {
   "cell_type": "code",
   "execution_count": 115,
   "metadata": {
    "scrolled": true
   },
   "outputs": [
    {
     "name": "stdout",
     "output_type": "stream",
     "text": [
      "El número total de datos(n) es: 25\n",
      "El dato mayor es: 206.0\n",
      "El dato menor es: 90.0\n",
      "El rango(R) es igual a: 116.0\n",
      "Aplicando Sturges [1 + 3.322 (log(n))]: \n",
      "       (Κ) es igual a \"5.64\". El número aproximado de intervalos sería de 6,\n",
      "       pero 6 es un número par. Por convención necesitamos tomar la cifra siguiete, que sea mayor e impar, o sea (Κ)=7,\n",
      "       con una amplitud(A) igual a 17.0\n"
     ]
    }
   ],
   "source": [
    "\"\"\"Cálculo de las cantidades índices de la tabla de frecuencia\"\"\"\n",
    "\n",
    "# El número total de datos es:\n",
    "np_datos=np.array(datos)\n",
    "print('El número total de datos(n) es: '+str(len(np_datos)))\n",
    "\n",
    "# Los máximos y mínimos son:\n",
    "print('El dato mayor es: '+np_datos.max().astype(str))\n",
    "print('El dato menor es: '+np_datos.min().astype(str))\n",
    "\n",
    "# Rango\n",
    "rango=np_datos.max().astype(float)-np_datos.min().astype(float)\n",
    "print('El rango(R) es igual a: '+ str(rango))\n",
    "\n",
    "# Amplitud y número de intervalos de clase utilizando el operador módulo para la verificación de cantidades pares o impares:    \n",
    "def inter_clases(k):\n",
    "    print('Aplicando Sturges [1 + 3.322 (log(n))]: \\n'\n",
    "          '       (\\u039A) es igual a ' +'\"'+str(round(k,2))+'\"'+'. El número aproximado de intervalos sería de ' +str(round(k))+',')\n",
    "    \n",
    "    if round(k)%2==0:\n",
    "        print('       pero '+str(round(k))+ ' es un número par. Por convención necesitamos tomar la cifra siguiete, que sea mayor e impar, o sea (\\u039A)='+str(round(k+1))+',\\n'\n",
    "         '       con una amplitud(A) igual a '+str(round(rango/round(k+1))))\n",
    "        return round(rango/round(k+1))\n",
    "       \n",
    "    else:\n",
    "        print('       y '+str(round(k)) + ' es un numero impar. Por convención tomamos este número como cantidad de intervalos. Entonces (\\u039A) es igual a '+str(round(k))+'\\n'\n",
    "              '       con una amplitud(A) igual a '+str(round(rango/(round(k)))))\n",
    "        return round(rango/(round(k)))\n",
    "                         \n",
    "A=inter_clases(1+(3.322*(math.log10(len(np_datos)))))"
   ]
  },
  {
   "cell_type": "code",
   "execution_count": 4,
   "metadata": {},
   "outputs": [
    {
     "name": "stdout",
     "output_type": "stream",
     "text": [
      "Los datos ordenados se ven así:\n"
     ]
    },
    {
     "data": {
      "text/plain": [
       "array([ 90.,  95.,  96., 108., 114., 116., 119., 123., 130., 141., 147.,\n",
       "       149., 150., 151., 154., 157., 163., 171., 172., 175., 178., 183.,\n",
       "       185., 202., 206.])"
      ]
     },
     "execution_count": 4,
     "metadata": {},
     "output_type": "execute_result"
    }
   ],
   "source": [
    "np_datos=np.sort(np_datos)\n",
    "print('Los datos ordenados se ven así:')\n",
    "np_datos"
   ]
  },
  {
   "cell_type": "code",
   "execution_count": 120,
   "metadata": {},
   "outputs": [
    {
     "name": "stdout",
     "output_type": "stream",
     "text": [
      "EL valor de la amplitud(A) es igual a \"17.0\". Por tanto los intervalos de clase serán igual a:\n",
      "90.0 107.0 124.0 141.0 158.0 175.0 192.0 "
     ]
    }
   ],
   "source": [
    "print('EL valor de la amplitud(A) es igual a '+'\"'+str(A)+'\"'+'. Por tanto los intervalos de clase serán igual a:')\n",
    "def intervalo(start, stop, step):\n",
    "    i=start\n",
    "    while i <= stop:\n",
    "        yield i\n",
    "        i+=step\n",
    "\n",
    "for i in intervalo(np_datos.min(), np_datos.max(),A):\n",
    "    print(i, end=' ')"
   ]
  }
 ],
 "metadata": {
  "kernelspec": {
   "display_name": "Python 3",
   "language": "python",
   "name": "python3"
  },
  "language_info": {
   "codemirror_mode": {
    "name": "ipython",
    "version": 3
   },
   "file_extension": ".py",
   "mimetype": "text/x-python",
   "name": "python",
   "nbconvert_exporter": "python",
   "pygments_lexer": "ipython3",
   "version": "3.7.3"
  }
 },
 "nbformat": 4,
 "nbformat_minor": 4
}

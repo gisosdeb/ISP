{
 "cells": [
  {
   "cell_type": "code",
   "execution_count": 2,
   "metadata": {},
   "outputs": [],
   "source": [
    "import pandas as pd\n",
    "import numpy as np\n",
    "import csv"
   ]
  },
  {
   "cell_type": "code",
   "execution_count": null,
   "metadata": {},
   "outputs": [],
   "source": [
    "# Importamos los datos de un archivo de texto en forma de una matriz cuadrada:\n",
    "\n",
    "datos=np.loadtxt('table.txt', delimiter=',', dtype=int)\n",
    "datos"
   ]
  },
  {
   "cell_type": "code",
   "execution_count": 139,
   "metadata": {},
   "outputs": [
    {
     "name": "stdout",
     "output_type": "stream",
     "text": [
      "[23.0, 45.0, 65.0, 24.0, 34.0, 25.0, 67.0, 57.0, 58.0, 15.0, 23.0, 45.0, 65.0, 24.0, 34.0, 25.0, 67.0, 57.0, 58.0, 15.0] "
     ]
    }
   ],
   "source": [
    "# importación de los datos de un archivo de texto sin ningún orden:\n",
    "\n",
    "listas = []\n",
    "datos=[]\n",
    "\n",
    "with open('table.txt', newline='') as archivo:\n",
    "    for linea in csv.reader(archivo):\n",
    "        listas.append(row)\n",
    "        \n",
    "for lista in listas:\n",
    "    for elemento in lista:\n",
    "        datos.append(float(elemento))\n",
    "print(datos, end=' ')"
   ]
  },
  {
   "cell_type": "code",
   "execution_count": 156,
   "metadata": {
    "scrolled": true
   },
   "outputs": [
    {
     "name": "stdout",
     "output_type": "stream",
     "text": [
      "El dato mayor es: 67.0\n",
      "El dato menor es: 15.0\n",
      "EL rango es: 52.0\n"
     ]
    }
   ],
   "source": [
    "#Claculamos el rango\n",
    "np_datos=np.array(datos)\n",
    "print('El dato mayor es: '+np_datos.max().astype(str))\n",
    "print('El dato menor es: '+np_datos.min().astype(str))\n",
    "print('EL rango es: '+ str(np_datos.max().astype(float)-np_datos.min().astype(float)))"
   ]
  }
 ],
 "metadata": {
  "kernelspec": {
   "display_name": "Python 3",
   "language": "python",
   "name": "python3"
  },
  "language_info": {
   "codemirror_mode": {
    "name": "ipython",
    "version": 3
   },
   "file_extension": ".py",
   "mimetype": "text/x-python",
   "name": "python",
   "nbconvert_exporter": "python",
   "pygments_lexer": "ipython3",
   "version": "3.7.3"
  }
 },
 "nbformat": 4,
 "nbformat_minor": 4
}
